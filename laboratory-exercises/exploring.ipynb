{
 "cells": [
  {
   "source": "# Exploring",
   "metadata": {},
   "cell_type": "markdown",
   "id": "185336ab-d366-4ba6-a7a8-d7be8444c36c"
  },
  {
   "source": "## Task 1\n\n- Import pandas library\n- Load the dataset, `repair.csv`\n    -  `dataset_url` = \"https://raw.githubusercontent.com/cogxen/datasets/main/for-laboratory/exploring-data-with-python/repair.csv\"\n-  Assign the dataset to a variable, `repair`",
   "metadata": {},
   "cell_type": "markdown",
   "id": "6014efd0-0625-4ae2-9e69-887dffcfb431"
  },
  {
   "source": "import pandas as pd\nrepair = pd.read_csv(\"https://raw.githubusercontent.com/cogxen/datasets/main/for-laboratory/exploring-data-with-python/repair.csv\")",
   "metadata": {
    "executionCancelledAt": null,
    "executionTime": 1787,
    "lastExecutedAt": 1722818653825,
    "lastExecutedByKernel": "1b11f213-6d92-4ab0-8c72-5dd6c7f86bb3",
    "lastScheduledRunId": null,
    "lastSuccessfullyExecutedCode": "import pandas as pd\nrepair = pd.read_csv(\"https://raw.githubusercontent.com/cogxen/datasets/main/for-laboratory/exploring-data-with-python/repair.csv\")",
    "ExecuteTime": {
     "end_time": "2024-08-05T01:07:05.627482Z",
     "start_time": "2024-08-05T01:07:04.360525Z"
    }
   },
   "cell_type": "code",
   "id": "7f4506ca-f471-4757-ae14-3fe6efc79afc",
   "outputs": [],
   "execution_count": 1
  },
  {
   "source": "## Task 2\n\n- Preview the first five (5) rows of the DataFrame",
   "metadata": {},
   "cell_type": "markdown",
   "id": "7fe8452e-61aa-45cd-8c78-5126105d5199"
  },
  {
   "source": "repair.head()",
   "metadata": {
    "executionCancelledAt": null,
    "executionTime": null,
    "lastExecutedAt": null,
    "lastExecutedByKernel": null,
    "lastScheduledRunId": null,
    "lastSuccessfullyExecutedCode": null,
    "outputsMetadata": {
     "0": {
      "height": 196,
      "type": "dataFrame"
     }
    },
    "ExecuteTime": {
     "end_time": "2024-08-05T01:07:05.645057Z",
     "start_time": "2024-08-05T01:07:05.627755Z"
    }
   },
   "cell_type": "code",
   "id": "b12e115c-fdd1-4b64-b156-6d156a09cc4d",
   "outputs": [
    {
     "data": {
      "text/plain": [
       "  country     product_category        brand  year_of_manufacture  product_age  \\\n",
       "0     gbr  aircon/dehumidifier     delonghi               2013.0          6.0   \n",
       "1     nld               kettle  royal swiss               2019.0          0.0   \n",
       "2     swe               mobile        apple               2015.0          3.0   \n",
       "3     ita     desktop computer         dell               2011.0         10.0   \n",
       "4     bel           power tool       makita               2015.0          4.0   \n",
       "\n",
       "  repair_status  year_repaired  \n",
       "0   end of life           2019  \n",
       "1         fixed           2019  \n",
       "2    repairable           2018  \n",
       "3         fixed           2021  \n",
       "4   end of life           2019  "
      ],
      "text/html": [
       "<div>\n",
       "<style scoped>\n",
       "    .dataframe tbody tr th:only-of-type {\n",
       "        vertical-align: middle;\n",
       "    }\n",
       "\n",
       "    .dataframe tbody tr th {\n",
       "        vertical-align: top;\n",
       "    }\n",
       "\n",
       "    .dataframe thead th {\n",
       "        text-align: right;\n",
       "    }\n",
       "</style>\n",
       "<table border=\"1\" class=\"dataframe\">\n",
       "  <thead>\n",
       "    <tr style=\"text-align: right;\">\n",
       "      <th></th>\n",
       "      <th>country</th>\n",
       "      <th>product_category</th>\n",
       "      <th>brand</th>\n",
       "      <th>year_of_manufacture</th>\n",
       "      <th>product_age</th>\n",
       "      <th>repair_status</th>\n",
       "      <th>year_repaired</th>\n",
       "    </tr>\n",
       "  </thead>\n",
       "  <tbody>\n",
       "    <tr>\n",
       "      <th>0</th>\n",
       "      <td>gbr</td>\n",
       "      <td>aircon/dehumidifier</td>\n",
       "      <td>delonghi</td>\n",
       "      <td>2013.0</td>\n",
       "      <td>6.0</td>\n",
       "      <td>end of life</td>\n",
       "      <td>2019</td>\n",
       "    </tr>\n",
       "    <tr>\n",
       "      <th>1</th>\n",
       "      <td>nld</td>\n",
       "      <td>kettle</td>\n",
       "      <td>royal swiss</td>\n",
       "      <td>2019.0</td>\n",
       "      <td>0.0</td>\n",
       "      <td>fixed</td>\n",
       "      <td>2019</td>\n",
       "    </tr>\n",
       "    <tr>\n",
       "      <th>2</th>\n",
       "      <td>swe</td>\n",
       "      <td>mobile</td>\n",
       "      <td>apple</td>\n",
       "      <td>2015.0</td>\n",
       "      <td>3.0</td>\n",
       "      <td>repairable</td>\n",
       "      <td>2018</td>\n",
       "    </tr>\n",
       "    <tr>\n",
       "      <th>3</th>\n",
       "      <td>ita</td>\n",
       "      <td>desktop computer</td>\n",
       "      <td>dell</td>\n",
       "      <td>2011.0</td>\n",
       "      <td>10.0</td>\n",
       "      <td>fixed</td>\n",
       "      <td>2021</td>\n",
       "    </tr>\n",
       "    <tr>\n",
       "      <th>4</th>\n",
       "      <td>bel</td>\n",
       "      <td>power tool</td>\n",
       "      <td>makita</td>\n",
       "      <td>2015.0</td>\n",
       "      <td>4.0</td>\n",
       "      <td>end of life</td>\n",
       "      <td>2019</td>\n",
       "    </tr>\n",
       "  </tbody>\n",
       "</table>\n",
       "</div>"
      ]
     },
     "execution_count": 2,
     "metadata": {},
     "output_type": "execute_result"
    }
   ],
   "execution_count": 2
  },
  {
   "source": "## Task 3\n\n- Preview the datatypes of the DataFrame",
   "metadata": {},
   "cell_type": "markdown",
   "id": "3b0c5fc1-24cf-4718-a2d6-0095a4ebab6e"
  },
  {
   "source": "repair.dtypes",
   "metadata": {
    "executionCancelledAt": null,
    "executionTime": 141,
    "lastExecutedAt": 1722818723637,
    "lastExecutedByKernel": "1b11f213-6d92-4ab0-8c72-5dd6c7f86bb3",
    "lastScheduledRunId": null,
    "lastSuccessfullyExecutedCode": "repair.dtypes",
    "ExecuteTime": {
     "end_time": "2024-08-05T01:07:05.650884Z",
     "start_time": "2024-08-05T01:07:05.645057Z"
    }
   },
   "cell_type": "code",
   "id": "9eb00a44-6929-465c-be5e-a15ff9cb34a0",
   "outputs": [
    {
     "data": {
      "text/plain": [
       "country                 object\n",
       "product_category        object\n",
       "brand                   object\n",
       "year_of_manufacture    float64\n",
       "product_age            float64\n",
       "repair_status           object\n",
       "year_repaired            int64\n",
       "dtype: object"
      ]
     },
     "execution_count": 3,
     "metadata": {},
     "output_type": "execute_result"
    }
   ],
   "execution_count": 3
  },
  {
   "source": "## Task 4\n\n- Assign the list of datatyps to a variable `datatypes`",
   "metadata": {},
   "cell_type": "markdown",
   "id": "b0964255-0aa3-4761-b752-f89ed8341d9f"
  },
  {
   "source": "datatypes = repair.dtypes",
   "metadata": {
    "executionCancelledAt": null,
    "executionTime": 9,
    "lastExecutedAt": 1722818758042,
    "lastExecutedByKernel": "1b11f213-6d92-4ab0-8c72-5dd6c7f86bb3",
    "lastScheduledRunId": null,
    "lastSuccessfullyExecutedCode": "datatypes = repair.dtypes",
    "ExecuteTime": {
     "end_time": "2024-08-05T01:07:05.654541Z",
     "start_time": "2024-08-05T01:07:05.650884Z"
    }
   },
   "cell_type": "code",
   "id": "390d3b66-767c-4b5b-b9fc-79f342ab314f",
   "outputs": [],
   "execution_count": 4
  },
  {
   "source": "## Task 5\n\n- Create a list of the countries appearing in the first five (5) rows\n- Preview the list",
   "metadata": {},
   "cell_type": "markdown",
   "id": "c7d03178-9e9b-41d8-8e80-373f4b128871"
  },
  {
   "source": "countries = repair['country'].head().tolist()\ncountries",
   "metadata": {
    "executionCancelledAt": null,
    "executionTime": 13,
    "lastExecutedAt": 1722818793724,
    "lastExecutedByKernel": "1b11f213-6d92-4ab0-8c72-5dd6c7f86bb3",
    "lastScheduledRunId": null,
    "lastSuccessfullyExecutedCode": "countries = repair['country'].head().tolist()\ncountries",
    "ExecuteTime": {
     "end_time": "2024-08-05T01:07:05.660042Z",
     "start_time": "2024-08-05T01:07:05.654541Z"
    }
   },
   "cell_type": "code",
   "id": "cd1bc8a1-5214-4ced-82fc-7681382b920d",
   "outputs": [
    {
     "data": {
      "text/plain": [
       "['gbr', 'nld', 'swe', 'ita', 'bel']"
      ]
     },
     "execution_count": 5,
     "metadata": {},
     "output_type": "execute_result"
    }
   ],
   "execution_count": 5
  },
  {
   "source": "## Task 6\n\n- Preview the count of all countries in the DataFrame",
   "metadata": {},
   "cell_type": "markdown",
   "id": "e73f5b54-fb78-4f2c-a9a0-3d494c668d39"
  },
  {
   "source": "repair['country'].value_counts()",
   "metadata": {
    "executionCancelledAt": null,
    "executionTime": null,
    "lastExecutedAt": null,
    "lastExecutedByKernel": null,
    "lastScheduledRunId": null,
    "lastSuccessfullyExecutedCode": null,
    "outputsMetadata": {
     "0": {
      "height": 321,
      "type": "dataFrame"
     }
    },
    "ExecuteTime": {
     "end_time": "2024-08-05T01:07:05.670100Z",
     "start_time": "2024-08-05T01:07:05.660564Z"
    }
   },
   "cell_type": "code",
   "id": "e0ea7311-ecbf-4ce4-a8ed-f9c13dd4063f",
   "outputs": [
    {
     "data": {
      "text/plain": [
       "nld    21423\n",
       "gbr    18576\n",
       "deu     7427\n",
       "bel     5008\n",
       "can     1955\n",
       "ita     1440\n",
       "usa     1388\n",
       "fra     1177\n",
       "nor     1024\n",
       "arg      617\n",
       "esp      531\n",
       "swe      509\n",
       "aus      308\n",
       "hkg      174\n",
       "irl      156\n",
       "tun       98\n",
       "isl       91\n",
       "aut       69\n",
       "jey       56\n",
       "nzl       54\n",
       "ben        9\n",
       "twn        3\n",
       "che        1\n",
       "Name: country, dtype: int64"
      ]
     },
     "execution_count": 6,
     "metadata": {},
     "output_type": "execute_result"
    }
   ],
   "execution_count": 6
  },
  {
   "source": "## Task 7\n\n- Modify the **Task 6**, return percentagegs and/or to sort from smallest to largest",
   "metadata": {},
   "cell_type": "markdown",
   "id": "fa284363-3778-4dba-9f30-6bddf5a5c9a7"
  },
  {
   "source": "repair['country'].value_counts(normalize=True).sort_values() * 100",
   "metadata": {
    "executionCancelledAt": null,
    "executionTime": null,
    "lastExecutedAt": null,
    "lastExecutedByKernel": null,
    "lastScheduledRunId": null,
    "lastSuccessfullyExecutedCode": null,
    "outputsMetadata": {
     "0": {
      "height": 321,
      "type": "dataFrame"
     }
    },
    "ExecuteTime": {
     "end_time": "2024-08-05T01:07:05.678771Z",
     "start_time": "2024-08-05T01:07:05.670100Z"
    }
   },
   "cell_type": "code",
   "id": "1650fad3-dd94-41e9-93c4-2a5ffb5a33a9",
   "outputs": [
    {
     "data": {
      "text/plain": [
       "che     0.001610\n",
       "twn     0.004831\n",
       "ben     0.014494\n",
       "nzl     0.086965\n",
       "jey     0.090186\n",
       "aut     0.111122\n",
       "isl     0.146552\n",
       "tun     0.157825\n",
       "irl     0.251232\n",
       "hkg     0.280220\n",
       "aus     0.496022\n",
       "swe     0.819725\n",
       "esp     0.855155\n",
       "arg     0.993655\n",
       "nor     1.649113\n",
       "fra     1.895513\n",
       "usa     2.235321\n",
       "ita     2.319065\n",
       "can     3.148452\n",
       "bel     8.065191\n",
       "deu    11.960898\n",
       "gbr    29.915934\n",
       "nld    34.500918\n",
       "Name: country, dtype: float64"
      ]
     },
     "execution_count": 7,
     "metadata": {},
     "output_type": "execute_result"
    }
   ],
   "execution_count": 7
  },
  {
   "source": "## Task 8\n\n- Find the earliest `year_repaired` ",
   "metadata": {},
   "cell_type": "markdown",
   "id": "03285efc-db54-48de-9f45-fc75dc904cb7"
  },
  {
   "source": "earliest_year_repaired = repair['year_repaired'].min()\nprint(f'Earliest Year: {earliest_year_repaired}')",
   "metadata": {
    "executionCancelledAt": null,
    "executionTime": 12,
    "lastExecutedAt": 1722818997300,
    "lastExecutedByKernel": "1b11f213-6d92-4ab0-8c72-5dd6c7f86bb3",
    "lastScheduledRunId": null,
    "lastSuccessfullyExecutedCode": "earliest_year_repaired = repair['year_repaired'].min()\nprint(f'Earliest Year: {earliest_year_repaired}')",
    "outputsMetadata": {
     "0": {
      "height": 38,
      "type": "stream"
     }
    },
    "ExecuteTime": {
     "end_time": "2024-08-05T01:07:05.684270Z",
     "start_time": "2024-08-05T01:07:05.678771Z"
    }
   },
   "cell_type": "code",
   "id": "a382c381-0013-4535-8f29-4b62da0c693d",
   "outputs": [
    {
     "name": "stdout",
     "output_type": "stream",
     "text": [
      "Earliest Year: 1999\n"
     ]
    }
   ],
   "execution_count": 8
  },
  {
   "source": "## Task 9\n\n- Find the number of unique countries in the DataFrame",
   "metadata": {},
   "cell_type": "markdown",
   "id": "f8eb276d-8bbe-4cbd-9d68-02cae324150b"
  },
  {
   "source": "unique_countries_count = repair['country'].nunique()\nprint(f'Number of Unique Countries: {unique_countries_count}')",
   "metadata": {
    "executionCancelledAt": null,
    "executionTime": null,
    "lastExecutedAt": null,
    "lastExecutedByKernel": null,
    "lastScheduledRunId": null,
    "lastSuccessfullyExecutedCode": null,
    "outputsMetadata": {
     "0": {
      "height": 38,
      "type": "stream"
     }
    },
    "ExecuteTime": {
     "end_time": "2024-08-05T01:07:05.690545Z",
     "start_time": "2024-08-05T01:07:05.684270Z"
    }
   },
   "cell_type": "code",
   "id": "e293085b-4c42-42c4-b2b6-6744b3a76ab3",
   "outputs": [
    {
     "name": "stdout",
     "output_type": "stream",
     "text": [
      "Number of Unique Countries: 23\n"
     ]
    }
   ],
   "execution_count": 9
  }
 ],
 "metadata": {
  "colab": {
   "name": "Welcome to DataCamp Workspaces.ipynb",
   "provenance": []
  },
  "kernelspec": {
   "display_name": "Python 3 (ipykernel)",
   "language": "python",
   "name": "python3"
  },
  "language_info": {
   "codemirror_mode": {
    "name": "ipython",
    "version": 3
   },
   "file_extension": ".py",
   "mimetype": "text/x-python",
   "name": "python",
   "nbconvert_exporter": "python",
   "pygments_lexer": "ipython3",
   "version": "3.10.12"
  }
 },
 "nbformat": 4,
 "nbformat_minor": 5
}
