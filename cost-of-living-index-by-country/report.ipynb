{
 "cells": [
  {
   "source": [
    "# Cost of Living Index by Country\n",
    "\n",
    "his report presents an analysis of cost of living indices across countries. A Random Forest classification model is employed to predict cost of living categories (Low, Medium, High). To address class imbalance, the Synthetic Minority Over-sampling Technique (SMOTE) is applied. Model performance is optimized through hyperparameter tuning.\n",
    "\n",
    "## Import libraries"
   ],
   "metadata": {},
   "cell_type": "markdown",
   "id": "af7989a2-b778-47b2-8991-835504d18bba"
  },
  {
   "source": [
    "import pandas as pd\n",
    "import seaborn as sns\n",
    "import matplotlib.pyplot as plt\n",
    "from sklearn.model_selection import train_test_split, StratifiedKFold, cross_val_score, GridSearchCV\n",
    "from sklearn.ensemble import RandomForestClassifier\n",
    "from sklearn.metrics import classification_report, accuracy_score\n",
    "from imblearn.over_sampling import SMOTE\n",
    "from imblearn.pipeline import Pipeline as imPipeline"
   ],
   "metadata": {
    "executionCancelledAt": null,
    "executionTime": 243,
    "lastExecutedAt": 1722959696893,
    "lastExecutedByKernel": "6f7dee58-04a6-4c49-9614-9a4789f785fb",
    "lastScheduledRunId": null,
    "lastSuccessfullyExecutedCode": "import pandas as pd\nimport seaborn as sns\nimport matplotlib.pyplot as plt\nfrom sklearn.model_selection import train_test_split, StratifiedKFold, cross_val_score, GridSearchCV\nfrom sklearn.ensemble import RandomForestClassifier\nfrom sklearn.metrics import classification_report, accuracy_score\nfrom imblearn.over_sampling import SMOTE\nfrom imblearn.pipeline import Pipeline as imPipeline"
   },
   "cell_type": "code",
   "id": "3c0dc30f-eeba-44fa-b902-477d63a566c8",
   "outputs": [],
   "execution_count": 2
  },
  {
   "source": [
    "## Load, understand, and analyze the data\n",
    "\n",
    "Dataset URL: \"https://raw.githubusercontent.com/cogxen/datasets/main/cost-of-living-index-by-country/cost-of-living-2024.csv\"\n",
    "\n",
    "- Load the dataset\n",
    "- Assign the dataset to a variable"
   ],
   "metadata": {},
   "cell_type": "markdown",
   "id": "af2f32ae-95ff-421e-bf8f-8c37022ffad5"
  },
  {
   "source": [
    "costs_url = \"https://raw.githubusercontent.com/cogxen/datasets/main/cost-of-living-index-by-country/cost-of-living-2024.csv\"\n",
    "\n",
    "# Assign the dataset\n",
    "costs = pd.read_csv(costs_url)"
   ],
   "metadata": {
    "executionCancelledAt": null,
    "executionTime": 105,
    "lastExecutedAt": 1722959886296,
    "lastExecutedByKernel": "6f7dee58-04a6-4c49-9614-9a4789f785fb",
    "lastScheduledRunId": null,
    "lastSuccessfullyExecutedCode": "costs_url = \"https://raw.githubusercontent.com/cogxen/datasets/main/cost-of-living-index-by-country/cost-of-living-2024.csv\"\n\n# Assign the dataset\ncosts = pd.read_csv(costs_url)"
   },
   "cell_type": "code",
   "id": "877753a6-85da-4778-94d6-892937328f1a",
   "outputs": [],
   "execution_count": 3
  },
  {
   "source": [
    "- Display the first five (5) rows of the DataFrame"
   ],
   "metadata": {},
   "cell_type": "markdown",
   "id": "892b88f8-31a2-4908-8993-d21252487974"
  },
  {
   "source": [
    "costs.head()"
   ],
   "metadata": {
    "executionCancelledAt": null,
    "executionTime": 26,
    "lastExecutedAt": 1722959959319,
    "lastExecutedByKernel": "6f7dee58-04a6-4c49-9614-9a4789f785fb",
    "lastScheduledRunId": null,
    "lastSuccessfullyExecutedCode": "costs.head()"
   },
   "cell_type": "code",
   "id": "8a183773-bbbd-41cc-89c2-cdccb0fc531d",
   "outputs": [
    {
     "output_type": "execute_result",
     "data": {
      "application/com.datacamp.data-table.v2+json": {
       "table": {
        "schema": {
         "fields": [
          {
           "name": "index",
           "type": "integer"
          },
          {
           "name": "Rank",
           "type": "integer"
          },
          {
           "name": "Country",
           "type": "string"
          },
          {
           "name": "Cost of Living Index",
           "type": "number"
          },
          {
           "name": "Rent Index",
           "type": "number"
          },
          {
           "name": "Cost of Living Plus Rent Index",
           "type": "number"
          },
          {
           "name": "Groceries Index",
           "type": "number"
          },
          {
           "name": "Restaurant Price Index",
           "type": "number"
          },
          {
           "name": "Local Purchasing Power Index",
           "type": "number"
          }
         ],
         "primaryKey": [
          "index"
         ],
         "pandas_version": "1.4.0"
        },
        "data": {
         "index": [
          0,
          1,
          2,
          3,
          4
         ],
         "Rank": [
          1,
          2,
          3,
          4,
          5
         ],
         "Country": [
          "Switzerland",
          "Bahamas",
          "Iceland",
          "Singapore",
          "Barbados"
         ],
         "Cost of Living Index": [
          101.1,
          85,
          83,
          76.7,
          76.6
         ],
         "Rent Index": [
          46.5,
          36.7,
          39.2,
          67.2,
          19
         ],
         "Cost of Living Plus Rent Index": [
          74.9,
          61.8,
          62,
          72.1,
          48.9
         ],
         "Groceries Index": [
          109.1,
          81.6,
          88.4,
          74.6,
          80.8
         ],
         "Restaurant Price Index": [
          97,
          83.3,
          86.8,
          50.4,
          69.4
         ],
         "Local Purchasing Power Index": [
          158.7,
          54.6,
          120.3,
          111.1,
          43.5
         ]
        }
       },
       "total_rows": 5,
       "truncation_type": null
      },
      "text/plain": "   Rank      Country  ...  Restaurant Price Index  Local Purchasing Power Index\n0     1  Switzerland  ...                    97.0                         158.7\n1     2      Bahamas  ...                    83.3                          54.6\n2     3      Iceland  ...                    86.8                         120.3\n3     4    Singapore  ...                    50.4                         111.1\n4     5     Barbados  ...                    69.4                          43.5\n\n[5 rows x 8 columns]",
      "text/html": "<div>\n<style scoped>\n    .dataframe tbody tr th:only-of-type {\n        vertical-align: middle;\n    }\n\n    .dataframe tbody tr th {\n        vertical-align: top;\n    }\n\n    .dataframe thead th {\n        text-align: right;\n    }\n</style>\n<table border=\"1\" class=\"dataframe\">\n  <thead>\n    <tr style=\"text-align: right;\">\n      <th></th>\n      <th>Rank</th>\n      <th>Country</th>\n      <th>Cost of Living Index</th>\n      <th>Rent Index</th>\n      <th>Cost of Living Plus Rent Index</th>\n      <th>Groceries Index</th>\n      <th>Restaurant Price Index</th>\n      <th>Local Purchasing Power Index</th>\n    </tr>\n  </thead>\n  <tbody>\n    <tr>\n      <th>0</th>\n      <td>1</td>\n      <td>Switzerland</td>\n      <td>101.1</td>\n      <td>46.5</td>\n      <td>74.9</td>\n      <td>109.1</td>\n      <td>97.0</td>\n      <td>158.7</td>\n    </tr>\n    <tr>\n      <th>1</th>\n      <td>2</td>\n      <td>Bahamas</td>\n      <td>85.0</td>\n      <td>36.7</td>\n      <td>61.8</td>\n      <td>81.6</td>\n      <td>83.3</td>\n      <td>54.6</td>\n    </tr>\n    <tr>\n      <th>2</th>\n      <td>3</td>\n      <td>Iceland</td>\n      <td>83.0</td>\n      <td>39.2</td>\n      <td>62.0</td>\n      <td>88.4</td>\n      <td>86.8</td>\n      <td>120.3</td>\n    </tr>\n    <tr>\n      <th>3</th>\n      <td>4</td>\n      <td>Singapore</td>\n      <td>76.7</td>\n      <td>67.2</td>\n      <td>72.1</td>\n      <td>74.6</td>\n      <td>50.4</td>\n      <td>111.1</td>\n    </tr>\n    <tr>\n      <th>4</th>\n      <td>5</td>\n      <td>Barbados</td>\n      <td>76.6</td>\n      <td>19.0</td>\n      <td>48.9</td>\n      <td>80.8</td>\n      <td>69.4</td>\n      <td>43.5</td>\n    </tr>\n  </tbody>\n</table>\n</div>"
     },
     "metadata": {},
     "execution_count": 4
    }
   ],
   "execution_count": 4
  }
 ],
 "metadata": {
  "colab": {
   "name": "Welcome to DataCamp Workspaces.ipynb",
   "provenance": []
  },
  "kernelspec": {
   "display_name": "Python 3 (ipykernel)",
   "language": "python",
   "name": "python3"
  },
  "language_info": {
   "codemirror_mode": {
    "name": "ipython",
    "version": 3
   },
   "file_extension": ".py",
   "mimetype": "text/x-python",
   "name": "python",
   "nbconvert_exporter": "python",
   "pygments_lexer": "ipython3",
   "version": "3.10.12"
  }
 },
 "nbformat": 4,
 "nbformat_minor": 5
}
