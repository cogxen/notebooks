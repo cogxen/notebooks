{
 "cells": [
  {
   "cell_type": "markdown",
   "id": "19ceac256d90b84b",
   "metadata": {},
   "source": [
    "# FIFA World Cup Tournament\n",
    "\n",
    "This project focuses on analyzing the FIFA World Cup Tournament. The dataset used in this project is from Kaggle. The dataset contains information about the FIFA World Cup matches.\n",
    "\n",
    "Our goal is to analyze the dataset and answer the following questions:\n",
    "1. Do teams perform better when playing as the host team in the men's FIFA World Cup?\n",
    "2. Who were the top goal scorers, individually and by team?\n",
    "3. Are the teams who perform better in the first (1st) or second (2nd) half of the match more likely to win the match?"
   ]
  },
  {
   "cell_type": "markdown",
   "id": "de470e0b",
   "metadata": {},
   "source": []
  },
  {
   "cell_type": "markdown",
   "id": "bad2f73c6ec1134d",
   "metadata": {},
   "source": [
    "## Importing Libraries + Cleaning Data\n",
    "\n",
    "First, we will import the necessary libraries and clean the data."
   ]
  },
  {
   "cell_type": "markdown",
   "id": "553e544e710367f4",
   "metadata": {},
   "source": [
    "### Import Libraries"
   ]
  },
  {
   "cell_type": "code",
   "execution_count": 1,
   "id": "25584adbaa0f0edc",
   "metadata": {
    "ExecuteTime": {
     "end_time": "2024-07-22T20:54:08.949253500Z",
     "start_time": "2024-07-22T20:54:08.131605700Z"
    }
   },
   "outputs": [],
   "source": [
    "# Importing libraries\n",
    "import pandas as pd\n",
    "import numpy as np"
   ]
  },
  {
   "cell_type": "code",
   "execution_count": 2,
   "outputs": [],
   "source": [
    "# Datasets URL\n",
    "results_url = 'https://raw.githubusercontent.com/cogxen/datasets/main/fifa-world-cup-tournament/results.csv'\n",
    "goalscorers_url = 'https://raw.githubusercontent.com/cogxen/datasets/main/fifa-world-cup-tournament/goalscorers.csv'\n",
    "shootouts_url = 'https://raw.githubusercontent.com/cogxen/datasets/main/fifa-world-cup-tournament/shootouts.csv'"
   ],
   "metadata": {
    "collapsed": false,
    "ExecuteTime": {
     "end_time": "2024-07-22T20:54:08.950252700Z",
     "start_time": "2024-07-22T20:54:08.811473400Z"
    }
   },
   "id": "190d904e6e7c8214"
  },
  {
   "cell_type": "markdown",
   "id": "6a22e7ef9af7877",
   "metadata": {
    "collapsed": false
   },
   "source": [
    "### Load and Inspect the Datasets\n",
    "\n",
    "This FIFA World Cup matches data is stored in three (3) different CSV files:\n",
    "- [results.csv](https://github.com/cogxen/datasets/blob/main/for-laboratory/projects/results.csv)\n",
    "- [goalscorers.csv](https://github.com/cogxen/datasets/blob/main/for-laboratory/projects/goalscorers.csv)\n",
    "- [shootouts.csv](https://github.com/cogxen/datasets/blob/main/for-laboratory/projects/shootouts.csv)\n",
    "\n",
    "We need to load these datasets and merge them accordingly. \n",
    "\n",
    "First, let's load the `results.csv` dataset."
   ]
  },
  {
   "cell_type": "code",
   "execution_count": 3,
   "id": "53cde9eac131afc3",
   "metadata": {
    "collapsed": false,
    "ExecuteTime": {
     "end_time": "2024-07-22T20:54:10.815245500Z",
     "start_time": "2024-07-22T20:54:08.814986200Z"
    }
   },
   "outputs": [
    {
     "data": {
      "text/plain": "         date home_team away_team  home_score  away_score tournament     city  \\\n0  1872-11-30  Scotland   England           0           0   Friendly  Glasgow   \n1  1873-03-08   England  Scotland           4           2   Friendly   London   \n2  1874-03-07  Scotland   England           2           1   Friendly  Glasgow   \n3  1875-03-06   England  Scotland           2           2   Friendly   London   \n4  1876-03-04  Scotland   England           3           0   Friendly  Glasgow   \n\n    country  neutral  \n0  Scotland    False  \n1   England    False  \n2  Scotland    False  \n3   England    False  \n4  Scotland    False  ",
      "text/html": "<div>\n<style scoped>\n    .dataframe tbody tr th:only-of-type {\n        vertical-align: middle;\n    }\n\n    .dataframe tbody tr th {\n        vertical-align: top;\n    }\n\n    .dataframe thead th {\n        text-align: right;\n    }\n</style>\n<table border=\"1\" class=\"dataframe\">\n  <thead>\n    <tr style=\"text-align: right;\">\n      <th></th>\n      <th>date</th>\n      <th>home_team</th>\n      <th>away_team</th>\n      <th>home_score</th>\n      <th>away_score</th>\n      <th>tournament</th>\n      <th>city</th>\n      <th>country</th>\n      <th>neutral</th>\n    </tr>\n  </thead>\n  <tbody>\n    <tr>\n      <th>0</th>\n      <td>1872-11-30</td>\n      <td>Scotland</td>\n      <td>England</td>\n      <td>0</td>\n      <td>0</td>\n      <td>Friendly</td>\n      <td>Glasgow</td>\n      <td>Scotland</td>\n      <td>False</td>\n    </tr>\n    <tr>\n      <th>1</th>\n      <td>1873-03-08</td>\n      <td>England</td>\n      <td>Scotland</td>\n      <td>4</td>\n      <td>2</td>\n      <td>Friendly</td>\n      <td>London</td>\n      <td>England</td>\n      <td>False</td>\n    </tr>\n    <tr>\n      <th>2</th>\n      <td>1874-03-07</td>\n      <td>Scotland</td>\n      <td>England</td>\n      <td>2</td>\n      <td>1</td>\n      <td>Friendly</td>\n      <td>Glasgow</td>\n      <td>Scotland</td>\n      <td>False</td>\n    </tr>\n    <tr>\n      <th>3</th>\n      <td>1875-03-06</td>\n      <td>England</td>\n      <td>Scotland</td>\n      <td>2</td>\n      <td>2</td>\n      <td>Friendly</td>\n      <td>London</td>\n      <td>England</td>\n      <td>False</td>\n    </tr>\n    <tr>\n      <th>4</th>\n      <td>1876-03-04</td>\n      <td>Scotland</td>\n      <td>England</td>\n      <td>3</td>\n      <td>0</td>\n      <td>Friendly</td>\n      <td>Glasgow</td>\n      <td>Scotland</td>\n      <td>False</td>\n    </tr>\n  </tbody>\n</table>\n</div>"
     },
     "execution_count": 3,
     "metadata": {},
     "output_type": "execute_result"
    }
   ],
   "source": [
    "# Load the results.csv dataset\n",
    "df1 = pd.read_csv(results_url)\n",
    "df1.head()"
   ]
  },
  {
   "cell_type": "code",
   "execution_count": 4,
   "id": "cbc4ee0bba391bef",
   "metadata": {
    "collapsed": false,
    "ExecuteTime": {
     "end_time": "2024-07-22T20:54:10.972054800Z",
     "start_time": "2024-07-22T20:54:10.810245700Z"
    }
   },
   "outputs": [
    {
     "name": "stdout",
     "output_type": "stream",
     "text": [
      "<class 'pandas.core.frame.DataFrame'>\n",
      "RangeIndex: 44557 entries, 0 to 44556\n",
      "Data columns (total 9 columns):\n",
      " #   Column      Non-Null Count  Dtype \n",
      "---  ------      --------------  ----- \n",
      " 0   date        44557 non-null  object\n",
      " 1   home_team   44557 non-null  object\n",
      " 2   away_team   44557 non-null  object\n",
      " 3   home_score  44557 non-null  int64 \n",
      " 4   away_score  44557 non-null  int64 \n",
      " 5   tournament  44557 non-null  object\n",
      " 6   city        44557 non-null  object\n",
      " 7   country     44557 non-null  object\n",
      " 8   neutral     44557 non-null  bool  \n",
      "dtypes: bool(1), int64(2), object(6)\n",
      "memory usage: 2.8+ MB\n"
     ]
    }
   ],
   "source": [
    "# Show results.csv dataset information\n",
    "df1.info()"
   ]
  },
  {
   "cell_type": "markdown",
   "id": "7fffd1302db094a1",
   "metadata": {
    "collapsed": false
   },
   "source": [
    "The `results.csv` dataset contains the following columns:\n",
    "\n",
    "- `date`: The date the match was played\n",
    "- `home_team`: The home team\n",
    "- `away_team`: The away team\n",
    "- `home_score`: The home team's score\n",
    "- `away_score`: The away team's score\n",
    "- `tournament`: The tournament the match was played in\n",
    "- `city`: The city the match was played in\n",
    "- `country`: The country the match was played in\n",
    "- `neutral`: Whether the match was played in a neutral location\n",
    "\n",
    "Next, let's load the `goalscorers.csv` dataset."
   ]
  },
  {
   "cell_type": "code",
   "execution_count": 5,
   "id": "d0e4b9c6dfe0a065",
   "metadata": {
    "collapsed": false,
    "ExecuteTime": {
     "end_time": "2024-07-22T20:54:12.329361Z",
     "start_time": "2024-07-22T20:54:10.859795600Z"
    }
   },
   "outputs": [
    {
     "data": {
      "text/plain": "         date  home_team away_team       team            scorer  minute  \\\n0  1916-07-02      Chile   Uruguay    Uruguay   José Piendibene    44.0   \n1  1916-07-02      Chile   Uruguay    Uruguay  Isabelino Gradín    55.0   \n2  1916-07-02      Chile   Uruguay    Uruguay  Isabelino Gradín    70.0   \n3  1916-07-02      Chile   Uruguay    Uruguay   José Piendibene    75.0   \n4  1916-07-06  Argentina     Chile  Argentina     Alberto Ohaco     2.0   \n\n   own_goal  penalty  \n0     False    False  \n1     False    False  \n2     False    False  \n3     False    False  \n4     False    False  ",
      "text/html": "<div>\n<style scoped>\n    .dataframe tbody tr th:only-of-type {\n        vertical-align: middle;\n    }\n\n    .dataframe tbody tr th {\n        vertical-align: top;\n    }\n\n    .dataframe thead th {\n        text-align: right;\n    }\n</style>\n<table border=\"1\" class=\"dataframe\">\n  <thead>\n    <tr style=\"text-align: right;\">\n      <th></th>\n      <th>date</th>\n      <th>home_team</th>\n      <th>away_team</th>\n      <th>team</th>\n      <th>scorer</th>\n      <th>minute</th>\n      <th>own_goal</th>\n      <th>penalty</th>\n    </tr>\n  </thead>\n  <tbody>\n    <tr>\n      <th>0</th>\n      <td>1916-07-02</td>\n      <td>Chile</td>\n      <td>Uruguay</td>\n      <td>Uruguay</td>\n      <td>José Piendibene</td>\n      <td>44.0</td>\n      <td>False</td>\n      <td>False</td>\n    </tr>\n    <tr>\n      <th>1</th>\n      <td>1916-07-02</td>\n      <td>Chile</td>\n      <td>Uruguay</td>\n      <td>Uruguay</td>\n      <td>Isabelino Gradín</td>\n      <td>55.0</td>\n      <td>False</td>\n      <td>False</td>\n    </tr>\n    <tr>\n      <th>2</th>\n      <td>1916-07-02</td>\n      <td>Chile</td>\n      <td>Uruguay</td>\n      <td>Uruguay</td>\n      <td>Isabelino Gradín</td>\n      <td>70.0</td>\n      <td>False</td>\n      <td>False</td>\n    </tr>\n    <tr>\n      <th>3</th>\n      <td>1916-07-02</td>\n      <td>Chile</td>\n      <td>Uruguay</td>\n      <td>Uruguay</td>\n      <td>José Piendibene</td>\n      <td>75.0</td>\n      <td>False</td>\n      <td>False</td>\n    </tr>\n    <tr>\n      <th>4</th>\n      <td>1916-07-06</td>\n      <td>Argentina</td>\n      <td>Chile</td>\n      <td>Argentina</td>\n      <td>Alberto Ohaco</td>\n      <td>2.0</td>\n      <td>False</td>\n      <td>False</td>\n    </tr>\n  </tbody>\n</table>\n</div>"
     },
     "execution_count": 5,
     "metadata": {},
     "output_type": "execute_result"
    }
   ],
   "source": [
    "# Load the goalscorers.csv dataset\n",
    "df2 = pd.read_csv(goalscorers_url)\n",
    "df2.head()"
   ]
  },
  {
   "cell_type": "code",
   "execution_count": 6,
   "id": "b432e21f8dbe216f",
   "metadata": {
    "collapsed": false,
    "ExecuteTime": {
     "end_time": "2024-07-22T20:54:12.461376800Z",
     "start_time": "2024-07-22T20:54:12.328595200Z"
    }
   },
   "outputs": [
    {
     "name": "stdout",
     "output_type": "stream",
     "text": [
      "<class 'pandas.core.frame.DataFrame'>\n",
      "RangeIndex: 41008 entries, 0 to 41007\n",
      "Data columns (total 8 columns):\n",
      " #   Column     Non-Null Count  Dtype  \n",
      "---  ------     --------------  -----  \n",
      " 0   date       41008 non-null  object \n",
      " 1   home_team  41008 non-null  object \n",
      " 2   away_team  41008 non-null  object \n",
      " 3   team       41008 non-null  object \n",
      " 4   scorer     40959 non-null  object \n",
      " 5   minute     40750 non-null  float64\n",
      " 6   own_goal   41008 non-null  bool   \n",
      " 7   penalty    41008 non-null  bool   \n",
      "dtypes: bool(2), float64(1), object(5)\n",
      "memory usage: 2.0+ MB\n"
     ]
    }
   ],
   "source": [
    "# Show goalscorers.csv dataset information\n",
    "df2.info()"
   ]
  },
  {
   "cell_type": "markdown",
   "id": "5788d265d6716eb",
   "metadata": {
    "collapsed": false
   },
   "source": [
    "The `goalscorers.csv` dataset contains the following columns:\n",
    "\n",
    "- `date`: The date the match was played\n",
    "- `home_team`: The home team\n",
    "- `away_team`: The away team\n",
    "- `team`: The team the goal scorer played for\n",
    "- `scorer`: The goal scorer\n",
    "- `minute`: The minute the goal was scored\n",
    "- `own_goal`: Whether the goal was an own goal\n",
    "- `penalty`: Whether the goal was a penalty\n",
    "\n",
    "Finally, let's load the `shootouts.csv` dataset."
   ]
  },
  {
   "cell_type": "code",
   "execution_count": 7,
   "id": "2629ba8e11963dff",
   "metadata": {
    "collapsed": false,
    "ExecuteTime": {
     "end_time": "2024-07-22T20:54:12.810319600Z",
     "start_time": "2024-07-22T20:54:12.365253600Z"
    }
   },
   "outputs": [
    {
     "data": {
      "text/plain": "         date    home_team         away_team       winner\n0  1967-08-22        India            Taiwan       Taiwan\n1  1971-11-14  South Korea  Vietnam Republic  South Korea\n2  1972-05-07  South Korea              Iraq         Iraq\n3  1972-05-17     Thailand       South Korea  South Korea\n4  1972-05-19     Thailand          Cambodia     Thailand",
      "text/html": "<div>\n<style scoped>\n    .dataframe tbody tr th:only-of-type {\n        vertical-align: middle;\n    }\n\n    .dataframe tbody tr th {\n        vertical-align: top;\n    }\n\n    .dataframe thead th {\n        text-align: right;\n    }\n</style>\n<table border=\"1\" class=\"dataframe\">\n  <thead>\n    <tr style=\"text-align: right;\">\n      <th></th>\n      <th>date</th>\n      <th>home_team</th>\n      <th>away_team</th>\n      <th>winner</th>\n    </tr>\n  </thead>\n  <tbody>\n    <tr>\n      <th>0</th>\n      <td>1967-08-22</td>\n      <td>India</td>\n      <td>Taiwan</td>\n      <td>Taiwan</td>\n    </tr>\n    <tr>\n      <th>1</th>\n      <td>1971-11-14</td>\n      <td>South Korea</td>\n      <td>Vietnam Republic</td>\n      <td>South Korea</td>\n    </tr>\n    <tr>\n      <th>2</th>\n      <td>1972-05-07</td>\n      <td>South Korea</td>\n      <td>Iraq</td>\n      <td>Iraq</td>\n    </tr>\n    <tr>\n      <th>3</th>\n      <td>1972-05-17</td>\n      <td>Thailand</td>\n      <td>South Korea</td>\n      <td>South Korea</td>\n    </tr>\n    <tr>\n      <th>4</th>\n      <td>1972-05-19</td>\n      <td>Thailand</td>\n      <td>Cambodia</td>\n      <td>Thailand</td>\n    </tr>\n  </tbody>\n</table>\n</div>"
     },
     "execution_count": 7,
     "metadata": {},
     "output_type": "execute_result"
    }
   ],
   "source": [
    "# Load the shootouts.csv dataset\n",
    "df3 = pd.read_csv(shootouts_url)\n",
    "df3.head()"
   ]
  },
  {
   "cell_type": "code",
   "execution_count": 8,
   "id": "8432fb4c75ac5286",
   "metadata": {
    "collapsed": false,
    "ExecuteTime": {
     "end_time": "2024-07-22T20:54:12.829291Z",
     "start_time": "2024-07-22T20:54:12.811320Z"
    }
   },
   "outputs": [
    {
     "name": "stdout",
     "output_type": "stream",
     "text": [
      "<class 'pandas.core.frame.DataFrame'>\n",
      "RangeIndex: 547 entries, 0 to 546\n",
      "Data columns (total 4 columns):\n",
      " #   Column     Non-Null Count  Dtype \n",
      "---  ------     --------------  ----- \n",
      " 0   date       547 non-null    object\n",
      " 1   home_team  547 non-null    object\n",
      " 2   away_team  547 non-null    object\n",
      " 3   winner     547 non-null    object\n",
      "dtypes: object(4)\n",
      "memory usage: 17.2+ KB\n"
     ]
    }
   ],
   "source": [
    "# Show shootouts.csv dataset information\n",
    "df3.info()"
   ]
  },
  {
   "cell_type": "markdown",
   "id": "2c4fbfb982a32195",
   "metadata": {
    "collapsed": false
   },
   "source": [
    "The `shootouts.csv` dataset contains the following columns:\n",
    "\n",
    "- `date`: The date the match was played\n",
    "- `home_team`: The home team\n",
    "- `away_team`: The away team\n",
    "- `winner`: The winner of the shootout\n",
    "\n",
    "Now that we have loaded the datasets, we can proceed to clean the data."
   ]
  },
  {
   "cell_type": "markdown",
   "id": "34c21fdf5dcad02e",
   "metadata": {
    "collapsed": false
   },
   "source": [
    "### Data Cleaning and Preparation\n",
    "\n",
    "Before we can merge `df1` (results.csv) and `df3` (shootouts.csv) datasets into a single dataset, we need to clean first the column names and row values in both datasets. We want to make sure that all column names and in lower case and have no whitespaces also in any of the text data sice we will be merging on those columns.\n",
    "\n",
    "Alright, let's create a function that can be applied to both datasets to clean the column names and row values."
   ]
  },
  {
   "cell_type": "code",
   "execution_count": 9,
   "id": "c191481530bd5d9f",
   "metadata": {
    "collapsed": false,
    "ExecuteTime": {
     "end_time": "2024-07-22T20:54:12.829291Z",
     "start_time": "2024-07-22T20:54:12.822232500Z"
    }
   },
   "outputs": [],
   "source": [
    "# Function to clean column names and row values\n",
    "def clean_data(df):\n",
    "    df.columns = df.columns.str.lower()\n",
    "    df.columns = df.columns.str.strip()\n",
    "    \n",
    "    for column in df.columns:\n",
    "        if df[column].dtype == 'object':\n",
    "            df[column] = df[column].str.lower()\n",
    "            df[column] = df[column].str.strip()\n",
    "            \n",
    "    return df"
   ]
  },
  {
   "cell_type": "markdown",
   "id": "2422f8c7a10c7431",
   "metadata": {
    "collapsed": false
   },
   "source": [
    "Now, let's apply the `clean_data` function to both `df1` and `df3` datasets."
   ]
  },
  {
   "cell_type": "code",
   "execution_count": 10,
   "id": "890f09e834ed7ea0",
   "metadata": {
    "collapsed": false,
    "ExecuteTime": {
     "end_time": "2024-07-22T20:54:13.100673300Z",
     "start_time": "2024-07-22T20:54:12.837305300Z"
    }
   },
   "outputs": [
    {
     "data": {
      "text/plain": "         date home_team away_team  home_score  away_score tournament     city  \\\n0  1872-11-30  scotland   england           0           0   friendly  glasgow   \n1  1873-03-08   england  scotland           4           2   friendly   london   \n2  1874-03-07  scotland   england           2           1   friendly  glasgow   \n3  1875-03-06   england  scotland           2           2   friendly   london   \n4  1876-03-04  scotland   england           3           0   friendly  glasgow   \n\n    country  neutral  \n0  scotland    False  \n1   england    False  \n2  scotland    False  \n3   england    False  \n4  scotland    False  ",
      "text/html": "<div>\n<style scoped>\n    .dataframe tbody tr th:only-of-type {\n        vertical-align: middle;\n    }\n\n    .dataframe tbody tr th {\n        vertical-align: top;\n    }\n\n    .dataframe thead th {\n        text-align: right;\n    }\n</style>\n<table border=\"1\" class=\"dataframe\">\n  <thead>\n    <tr style=\"text-align: right;\">\n      <th></th>\n      <th>date</th>\n      <th>home_team</th>\n      <th>away_team</th>\n      <th>home_score</th>\n      <th>away_score</th>\n      <th>tournament</th>\n      <th>city</th>\n      <th>country</th>\n      <th>neutral</th>\n    </tr>\n  </thead>\n  <tbody>\n    <tr>\n      <th>0</th>\n      <td>1872-11-30</td>\n      <td>scotland</td>\n      <td>england</td>\n      <td>0</td>\n      <td>0</td>\n      <td>friendly</td>\n      <td>glasgow</td>\n      <td>scotland</td>\n      <td>False</td>\n    </tr>\n    <tr>\n      <th>1</th>\n      <td>1873-03-08</td>\n      <td>england</td>\n      <td>scotland</td>\n      <td>4</td>\n      <td>2</td>\n      <td>friendly</td>\n      <td>london</td>\n      <td>england</td>\n      <td>False</td>\n    </tr>\n    <tr>\n      <th>2</th>\n      <td>1874-03-07</td>\n      <td>scotland</td>\n      <td>england</td>\n      <td>2</td>\n      <td>1</td>\n      <td>friendly</td>\n      <td>glasgow</td>\n      <td>scotland</td>\n      <td>False</td>\n    </tr>\n    <tr>\n      <th>3</th>\n      <td>1875-03-06</td>\n      <td>england</td>\n      <td>scotland</td>\n      <td>2</td>\n      <td>2</td>\n      <td>friendly</td>\n      <td>london</td>\n      <td>england</td>\n      <td>False</td>\n    </tr>\n    <tr>\n      <th>4</th>\n      <td>1876-03-04</td>\n      <td>scotland</td>\n      <td>england</td>\n      <td>3</td>\n      <td>0</td>\n      <td>friendly</td>\n      <td>glasgow</td>\n      <td>scotland</td>\n      <td>False</td>\n    </tr>\n  </tbody>\n</table>\n</div>"
     },
     "execution_count": 10,
     "metadata": {},
     "output_type": "execute_result"
    }
   ],
   "source": [
    "# Clean the results.csv dataset\n",
    "results = clean_data(df1)\n",
    "\n",
    "# Show cleaned results.csv dataset\n",
    "results.head()"
   ]
  },
  {
   "cell_type": "code",
   "execution_count": 11,
   "id": "d6f1b16398875c35",
   "metadata": {
    "collapsed": false,
    "ExecuteTime": {
     "end_time": "2024-07-22T20:54:13.103671900Z",
     "start_time": "2024-07-22T20:54:12.990807300Z"
    }
   },
   "outputs": [
    {
     "data": {
      "text/plain": "         date    home_team         away_team       winner\n0  1967-08-22        india            taiwan       taiwan\n1  1971-11-14  south korea  vietnam republic  south korea\n2  1972-05-07  south korea              iraq         iraq\n3  1972-05-17     thailand       south korea  south korea\n4  1972-05-19     thailand          cambodia     thailand",
      "text/html": "<div>\n<style scoped>\n    .dataframe tbody tr th:only-of-type {\n        vertical-align: middle;\n    }\n\n    .dataframe tbody tr th {\n        vertical-align: top;\n    }\n\n    .dataframe thead th {\n        text-align: right;\n    }\n</style>\n<table border=\"1\" class=\"dataframe\">\n  <thead>\n    <tr style=\"text-align: right;\">\n      <th></th>\n      <th>date</th>\n      <th>home_team</th>\n      <th>away_team</th>\n      <th>winner</th>\n    </tr>\n  </thead>\n  <tbody>\n    <tr>\n      <th>0</th>\n      <td>1967-08-22</td>\n      <td>india</td>\n      <td>taiwan</td>\n      <td>taiwan</td>\n    </tr>\n    <tr>\n      <th>1</th>\n      <td>1971-11-14</td>\n      <td>south korea</td>\n      <td>vietnam republic</td>\n      <td>south korea</td>\n    </tr>\n    <tr>\n      <th>2</th>\n      <td>1972-05-07</td>\n      <td>south korea</td>\n      <td>iraq</td>\n      <td>iraq</td>\n    </tr>\n    <tr>\n      <th>3</th>\n      <td>1972-05-17</td>\n      <td>thailand</td>\n      <td>south korea</td>\n      <td>south korea</td>\n    </tr>\n    <tr>\n      <th>4</th>\n      <td>1972-05-19</td>\n      <td>thailand</td>\n      <td>cambodia</td>\n      <td>thailand</td>\n    </tr>\n  </tbody>\n</table>\n</div>"
     },
     "execution_count": 11,
     "metadata": {},
     "output_type": "execute_result"
    }
   ],
   "source": [
    "# Clean the shootouts.csv dataset\n",
    "shootouts = clean_data(df3)\n",
    "\n",
    "# Show cleaned shootouts.csv dataset\n",
    "shootouts.head()"
   ]
  },
  {
   "cell_type": "markdown",
   "id": "f4fef0a0befaf145",
   "metadata": {
    "collapsed": false
   },
   "source": [
    "Now that we have cleaned the `results.csv` and `shootouts.csv` datasets, we can proceed to merge them into a single dataset. We will do this by matching the `date`, `home_team`, and `away_team` columns in both datasets. And lastly, let's specify a **left** join to return all the matches in `results`, whether they ended in a shootout or not.\n",
    "\n",
    "Don't forget to show the first five (5) rows of the merged dataset and its information."
   ]
  },
  {
   "cell_type": "code",
   "execution_count": 12,
   "id": "79b05108d1f6a587",
   "metadata": {
    "collapsed": false,
    "ExecuteTime": {
     "end_time": "2024-07-22T20:54:13.111903400Z",
     "start_time": "2024-07-22T20:54:13.009122300Z"
    }
   },
   "outputs": [
    {
     "data": {
      "text/plain": "         date home_team away_team  home_score  away_score tournament     city  \\\n0  1872-11-30  scotland   england           0           0   friendly  glasgow   \n1  1873-03-08   england  scotland           4           2   friendly   london   \n2  1874-03-07  scotland   england           2           1   friendly  glasgow   \n3  1875-03-06   england  scotland           2           2   friendly   london   \n4  1876-03-04  scotland   england           3           0   friendly  glasgow   \n\n    country  neutral winner  \n0  scotland    False    NaN  \n1   england    False    NaN  \n2  scotland    False    NaN  \n3   england    False    NaN  \n4  scotland    False    NaN  ",
      "text/html": "<div>\n<style scoped>\n    .dataframe tbody tr th:only-of-type {\n        vertical-align: middle;\n    }\n\n    .dataframe tbody tr th {\n        vertical-align: top;\n    }\n\n    .dataframe thead th {\n        text-align: right;\n    }\n</style>\n<table border=\"1\" class=\"dataframe\">\n  <thead>\n    <tr style=\"text-align: right;\">\n      <th></th>\n      <th>date</th>\n      <th>home_team</th>\n      <th>away_team</th>\n      <th>home_score</th>\n      <th>away_score</th>\n      <th>tournament</th>\n      <th>city</th>\n      <th>country</th>\n      <th>neutral</th>\n      <th>winner</th>\n    </tr>\n  </thead>\n  <tbody>\n    <tr>\n      <th>0</th>\n      <td>1872-11-30</td>\n      <td>scotland</td>\n      <td>england</td>\n      <td>0</td>\n      <td>0</td>\n      <td>friendly</td>\n      <td>glasgow</td>\n      <td>scotland</td>\n      <td>False</td>\n      <td>NaN</td>\n    </tr>\n    <tr>\n      <th>1</th>\n      <td>1873-03-08</td>\n      <td>england</td>\n      <td>scotland</td>\n      <td>4</td>\n      <td>2</td>\n      <td>friendly</td>\n      <td>london</td>\n      <td>england</td>\n      <td>False</td>\n      <td>NaN</td>\n    </tr>\n    <tr>\n      <th>2</th>\n      <td>1874-03-07</td>\n      <td>scotland</td>\n      <td>england</td>\n      <td>2</td>\n      <td>1</td>\n      <td>friendly</td>\n      <td>glasgow</td>\n      <td>scotland</td>\n      <td>False</td>\n      <td>NaN</td>\n    </tr>\n    <tr>\n      <th>3</th>\n      <td>1875-03-06</td>\n      <td>england</td>\n      <td>scotland</td>\n      <td>2</td>\n      <td>2</td>\n      <td>friendly</td>\n      <td>london</td>\n      <td>england</td>\n      <td>False</td>\n      <td>NaN</td>\n    </tr>\n    <tr>\n      <th>4</th>\n      <td>1876-03-04</td>\n      <td>scotland</td>\n      <td>england</td>\n      <td>3</td>\n      <td>0</td>\n      <td>friendly</td>\n      <td>glasgow</td>\n      <td>scotland</td>\n      <td>False</td>\n      <td>NaN</td>\n    </tr>\n  </tbody>\n</table>\n</div>"
     },
     "execution_count": 12,
     "metadata": {},
     "output_type": "execute_result"
    }
   ],
   "source": [
    "# Merge the results and shootouts datasets\n",
    "results_shootouts = pd.merge(results, shootouts, on=['date', 'home_team', 'away_team'], how='left')\n",
    "\n",
    "# Show the merged dataset\n",
    "results_shootouts.head()"
   ]
  },
  {
   "cell_type": "code",
   "execution_count": 13,
   "id": "46e698fc9a93dba3",
   "metadata": {
    "collapsed": false,
    "ExecuteTime": {
     "end_time": "2024-07-22T20:54:13.204699300Z",
     "start_time": "2024-07-22T20:54:13.062627700Z"
    }
   },
   "outputs": [
    {
     "name": "stdout",
     "output_type": "stream",
     "text": [
      "<class 'pandas.core.frame.DataFrame'>\n",
      "Int64Index: 44557 entries, 0 to 44556\n",
      "Data columns (total 10 columns):\n",
      " #   Column      Non-Null Count  Dtype \n",
      "---  ------      --------------  ----- \n",
      " 0   date        44557 non-null  object\n",
      " 1   home_team   44557 non-null  object\n",
      " 2   away_team   44557 non-null  object\n",
      " 3   home_score  44557 non-null  int64 \n",
      " 4   away_score  44557 non-null  int64 \n",
      " 5   tournament  44557 non-null  object\n",
      " 6   city        44557 non-null  object\n",
      " 7   country     44557 non-null  object\n",
      " 8   neutral     44557 non-null  bool  \n",
      " 9   winner      546 non-null    object\n",
      "dtypes: bool(1), int64(2), object(7)\n",
      "memory usage: 3.4+ MB\n"
     ]
    }
   ],
   "source": [
    "# Show the merged dataset information\n",
    "results_shootouts.info()"
   ]
  },
  {
   "cell_type": "markdown",
   "id": "a98bdec2b70dd3bd",
   "metadata": {
    "collapsed": false
   },
   "source": [
    "As you can see, the `winner` column only contains data on matches that ended in a shootout. The **left** join inserts `NaN` values for all matches/games that ended without any penalty shootout. Later in the data cleaning and preparation process, we will address this issue.\n",
    "\n",
    "Now, let's analyze the result of the FIFA World Cup tournament. Let's display the top 10 most frequent tournaments in the dataset."
   ]
  },
  {
   "cell_type": "code",
   "execution_count": 14,
   "id": "18481944a8a0f980",
   "metadata": {
    "collapsed": false,
    "ExecuteTime": {
     "end_time": "2024-07-22T20:54:13.301707200Z",
     "start_time": "2024-07-22T20:54:13.121957300Z"
    }
   },
   "outputs": [
    {
     "data": {
      "text/plain": "friendly                                17593\nfifa world cup qualification             7878\nuefa euro qualification                  2631\nafrican cup of nations qualification     1976\nfifa world cup                            964\ncopa américa                              841\nafc asian cup qualification               764\nafrican cup of nations                    741\ncecafa cup                                620\ncfu caribbean cup qualification           606\nName: tournament, dtype: int64"
     },
     "execution_count": 14,
     "metadata": {},
     "output_type": "execute_result"
    }
   ],
   "source": [
    "# Display the top 10 most frequent tournaments\n",
    "results_shootouts['tournament'].value_counts().head(10)"
   ]
  },
  {
   "cell_type": "markdown",
   "id": "a42f561066a49b31",
   "metadata": {
    "collapsed": false
   },
   "source": [
    "As you can see, there are **964** matches in the dataset that are part of the FIFA World Cup tournament.\n",
    "\n",
    "Now, let's move on to the analysis of the FIFA World Cup tournament. Filter the dataset to only include matches that are part of the FIFA World Cup tournament."
   ]
  },
  {
   "cell_type": "code",
   "execution_count": 15,
   "id": "3ffa8db3aca9f151",
   "metadata": {
    "collapsed": false,
    "ExecuteTime": {
     "end_time": "2024-07-22T20:54:13.303711100Z",
     "start_time": "2024-07-22T20:54:13.140481500Z"
    }
   },
   "outputs": [
    {
     "data": {
      "text/plain": "            date  home_team      away_team  home_score  away_score  \\\n1311  1930-07-13    belgium  united states           0           3   \n1312  1930-07-13     france         mexico           4           1   \n1313  1930-07-14     brazil     yugoslavia           1           2   \n1314  1930-07-14       peru        romania           1           3   \n1315  1930-07-15  argentina         france           1           0   \n\n          tournament        city  country  neutral winner  \n1311  fifa world cup  montevideo  uruguay     True    NaN  \n1312  fifa world cup  montevideo  uruguay     True    NaN  \n1313  fifa world cup  montevideo  uruguay     True    NaN  \n1314  fifa world cup  montevideo  uruguay     True    NaN  \n1315  fifa world cup  montevideo  uruguay     True    NaN  ",
      "text/html": "<div>\n<style scoped>\n    .dataframe tbody tr th:only-of-type {\n        vertical-align: middle;\n    }\n\n    .dataframe tbody tr th {\n        vertical-align: top;\n    }\n\n    .dataframe thead th {\n        text-align: right;\n    }\n</style>\n<table border=\"1\" class=\"dataframe\">\n  <thead>\n    <tr style=\"text-align: right;\">\n      <th></th>\n      <th>date</th>\n      <th>home_team</th>\n      <th>away_team</th>\n      <th>home_score</th>\n      <th>away_score</th>\n      <th>tournament</th>\n      <th>city</th>\n      <th>country</th>\n      <th>neutral</th>\n      <th>winner</th>\n    </tr>\n  </thead>\n  <tbody>\n    <tr>\n      <th>1311</th>\n      <td>1930-07-13</td>\n      <td>belgium</td>\n      <td>united states</td>\n      <td>0</td>\n      <td>3</td>\n      <td>fifa world cup</td>\n      <td>montevideo</td>\n      <td>uruguay</td>\n      <td>True</td>\n      <td>NaN</td>\n    </tr>\n    <tr>\n      <th>1312</th>\n      <td>1930-07-13</td>\n      <td>france</td>\n      <td>mexico</td>\n      <td>4</td>\n      <td>1</td>\n      <td>fifa world cup</td>\n      <td>montevideo</td>\n      <td>uruguay</td>\n      <td>True</td>\n      <td>NaN</td>\n    </tr>\n    <tr>\n      <th>1313</th>\n      <td>1930-07-14</td>\n      <td>brazil</td>\n      <td>yugoslavia</td>\n      <td>1</td>\n      <td>2</td>\n      <td>fifa world cup</td>\n      <td>montevideo</td>\n      <td>uruguay</td>\n      <td>True</td>\n      <td>NaN</td>\n    </tr>\n    <tr>\n      <th>1314</th>\n      <td>1930-07-14</td>\n      <td>peru</td>\n      <td>romania</td>\n      <td>1</td>\n      <td>3</td>\n      <td>fifa world cup</td>\n      <td>montevideo</td>\n      <td>uruguay</td>\n      <td>True</td>\n      <td>NaN</td>\n    </tr>\n    <tr>\n      <th>1315</th>\n      <td>1930-07-15</td>\n      <td>argentina</td>\n      <td>france</td>\n      <td>1</td>\n      <td>0</td>\n      <td>fifa world cup</td>\n      <td>montevideo</td>\n      <td>uruguay</td>\n      <td>True</td>\n      <td>NaN</td>\n    </tr>\n  </tbody>\n</table>\n</div>"
     },
     "execution_count": 15,
     "metadata": {},
     "output_type": "execute_result"
    }
   ],
   "source": [
    "# Filter the dataset to include only FIFA World Cup matches\n",
    "fifa_wc_mask = results_shootouts['tournament'] == 'fifa world cup'\n",
    "fifa_wc = results_shootouts[fifa_wc_mask].copy()\n",
    "\n",
    "# Show the first five (5) rows of the FIFA World Cup dataset\n",
    "fifa_wc.head()"
   ]
  },
  {
   "cell_type": "code",
   "execution_count": 16,
   "id": "ed51348e1401f9d9",
   "metadata": {
    "collapsed": false,
    "ExecuteTime": {
     "end_time": "2024-07-22T20:54:13.304709500Z",
     "start_time": "2024-07-22T20:54:13.161256100Z"
    }
   },
   "outputs": [
    {
     "name": "stdout",
     "output_type": "stream",
     "text": [
      "<class 'pandas.core.frame.DataFrame'>\n",
      "Int64Index: 964 entries, 1311 to 44358\n",
      "Data columns (total 10 columns):\n",
      " #   Column      Non-Null Count  Dtype \n",
      "---  ------      --------------  ----- \n",
      " 0   date        964 non-null    object\n",
      " 1   home_team   964 non-null    object\n",
      " 2   away_team   964 non-null    object\n",
      " 3   home_score  964 non-null    int64 \n",
      " 4   away_score  964 non-null    int64 \n",
      " 5   tournament  964 non-null    object\n",
      " 6   city        964 non-null    object\n",
      " 7   country     964 non-null    object\n",
      " 8   neutral     964 non-null    bool  \n",
      " 9   winner      35 non-null     object\n",
      "dtypes: bool(1), int64(2), object(7)\n",
      "memory usage: 76.3+ KB\n"
     ]
    }
   ],
   "source": [
    "# Show the FIFA World Cup dataset information\n",
    "fifa_wc.info()"
   ]
  },
  {
   "cell_type": "markdown",
   "id": "50766d49570218f2",
   "metadata": {
    "collapsed": false
   },
   "source": [
    "As you can see, **35** out of **964** matches have ended in penalty shootouts. One reason that this numer is relatively low is because that's how the FIFA World Cup tournament is structured. The tournament has a knockout stage where matches must have a winner, which is why penalty shootouts are used to determine the winner if the match ends in a draw. \n",
    "\n",
    "World Cup tournaments start with **group play**, where teams play in small round-robin setup/tournaments that allows ties. The knockout stage is where penalty shootouts are used to determine the winner if the match ends in a draw.\n",
    "\n",
    "Now, we need to know the number of winners that aren't result of penalty shootouts. Let's create some columns that will help us to fill in those values and it will be useful in other aspects of our analysis later on. \n",
    "\n",
    "Let's create a new columns:\n",
    "- `total_goals`: The total number of goals scored in the match by both teams\n",
    "- `win_margin`: This where will be stored the margin of victory by `home_score` - `away_score`\n",
    "    - positive value means the home team won\n",
    "    - negative value means the away team won\n",
    "    - if `win_margin` is `0`, the match ended in a draw or a match that ended in a penalty shootout "
   ]
  },
  {
   "cell_type": "code",
   "execution_count": 17,
   "id": "b27b76c23139a0",
   "metadata": {
    "collapsed": false,
    "ExecuteTime": {
     "end_time": "2024-07-22T20:54:13.338758900Z",
     "start_time": "2024-07-22T20:54:13.175039600Z"
    }
   },
   "outputs": [
    {
     "data": {
      "text/plain": "            date  home_team      away_team  home_score  away_score  \\\n1311  1930-07-13    belgium  united states           0           3   \n1312  1930-07-13     france         mexico           4           1   \n1313  1930-07-14     brazil     yugoslavia           1           2   \n1314  1930-07-14       peru        romania           1           3   \n1315  1930-07-15  argentina         france           1           0   \n\n          tournament        city  country  neutral winner  total_goals  \\\n1311  fifa world cup  montevideo  uruguay     True    NaN            3   \n1312  fifa world cup  montevideo  uruguay     True    NaN            5   \n1313  fifa world cup  montevideo  uruguay     True    NaN            3   \n1314  fifa world cup  montevideo  uruguay     True    NaN            4   \n1315  fifa world cup  montevideo  uruguay     True    NaN            1   \n\n      win_margin  \n1311          -3  \n1312           3  \n1313          -1  \n1314          -2  \n1315           1  ",
      "text/html": "<div>\n<style scoped>\n    .dataframe tbody tr th:only-of-type {\n        vertical-align: middle;\n    }\n\n    .dataframe tbody tr th {\n        vertical-align: top;\n    }\n\n    .dataframe thead th {\n        text-align: right;\n    }\n</style>\n<table border=\"1\" class=\"dataframe\">\n  <thead>\n    <tr style=\"text-align: right;\">\n      <th></th>\n      <th>date</th>\n      <th>home_team</th>\n      <th>away_team</th>\n      <th>home_score</th>\n      <th>away_score</th>\n      <th>tournament</th>\n      <th>city</th>\n      <th>country</th>\n      <th>neutral</th>\n      <th>winner</th>\n      <th>total_goals</th>\n      <th>win_margin</th>\n    </tr>\n  </thead>\n  <tbody>\n    <tr>\n      <th>1311</th>\n      <td>1930-07-13</td>\n      <td>belgium</td>\n      <td>united states</td>\n      <td>0</td>\n      <td>3</td>\n      <td>fifa world cup</td>\n      <td>montevideo</td>\n      <td>uruguay</td>\n      <td>True</td>\n      <td>NaN</td>\n      <td>3</td>\n      <td>-3</td>\n    </tr>\n    <tr>\n      <th>1312</th>\n      <td>1930-07-13</td>\n      <td>france</td>\n      <td>mexico</td>\n      <td>4</td>\n      <td>1</td>\n      <td>fifa world cup</td>\n      <td>montevideo</td>\n      <td>uruguay</td>\n      <td>True</td>\n      <td>NaN</td>\n      <td>5</td>\n      <td>3</td>\n    </tr>\n    <tr>\n      <th>1313</th>\n      <td>1930-07-14</td>\n      <td>brazil</td>\n      <td>yugoslavia</td>\n      <td>1</td>\n      <td>2</td>\n      <td>fifa world cup</td>\n      <td>montevideo</td>\n      <td>uruguay</td>\n      <td>True</td>\n      <td>NaN</td>\n      <td>3</td>\n      <td>-1</td>\n    </tr>\n    <tr>\n      <th>1314</th>\n      <td>1930-07-14</td>\n      <td>peru</td>\n      <td>romania</td>\n      <td>1</td>\n      <td>3</td>\n      <td>fifa world cup</td>\n      <td>montevideo</td>\n      <td>uruguay</td>\n      <td>True</td>\n      <td>NaN</td>\n      <td>4</td>\n      <td>-2</td>\n    </tr>\n    <tr>\n      <th>1315</th>\n      <td>1930-07-15</td>\n      <td>argentina</td>\n      <td>france</td>\n      <td>1</td>\n      <td>0</td>\n      <td>fifa world cup</td>\n      <td>montevideo</td>\n      <td>uruguay</td>\n      <td>True</td>\n      <td>NaN</td>\n      <td>1</td>\n      <td>1</td>\n    </tr>\n  </tbody>\n</table>\n</div>"
     },
     "execution_count": 17,
     "metadata": {},
     "output_type": "execute_result"
    }
   ],
   "source": [
    "# Create a new column 'total_goals' that contains the total number of goals scored in the match\n",
    "fifa_wc['total_goals'] = fifa_wc['home_score'] + fifa_wc['away_score']\n",
    "\n",
    "# Create a new column 'win_margin' that contains the margin of victory\n",
    "fifa_wc['win_margin'] = fifa_wc['home_score'] - fifa_wc['away_score']\n",
    "\n",
    "# Show the first five (5) rows of the FIFA World Cup dataset\n",
    "fifa_wc.head()"
   ]
  },
  {
   "cell_type": "markdown",
   "id": "1a3d9340256f6a1c",
   "metadata": {
    "collapsed": false
   },
   "source": [
    "As we notice, the `winner` column only contains the winners of matches that resulted in a penalty shootout. We need to rename this column to `shootout_winner` ."
   ]
  },
  {
   "cell_type": "code",
   "execution_count": 18,
   "id": "8ce16d43e47d8f98",
   "metadata": {
    "collapsed": false,
    "ExecuteTime": {
     "end_time": "2024-07-22T20:54:13.339758900Z",
     "start_time": "2024-07-22T20:54:13.191649700Z"
    }
   },
   "outputs": [
    {
     "data": {
      "text/plain": "            date  home_team      away_team  home_score  away_score  \\\n1311  1930-07-13    belgium  united states           0           3   \n1312  1930-07-13     france         mexico           4           1   \n1313  1930-07-14     brazil     yugoslavia           1           2   \n1314  1930-07-14       peru        romania           1           3   \n1315  1930-07-15  argentina         france           1           0   \n\n          tournament        city  country  neutral shootout_winner  \\\n1311  fifa world cup  montevideo  uruguay     True             NaN   \n1312  fifa world cup  montevideo  uruguay     True             NaN   \n1313  fifa world cup  montevideo  uruguay     True             NaN   \n1314  fifa world cup  montevideo  uruguay     True             NaN   \n1315  fifa world cup  montevideo  uruguay     True             NaN   \n\n      total_goals  win_margin  \n1311            3          -3  \n1312            5           3  \n1313            3          -1  \n1314            4          -2  \n1315            1           1  ",
      "text/html": "<div>\n<style scoped>\n    .dataframe tbody tr th:only-of-type {\n        vertical-align: middle;\n    }\n\n    .dataframe tbody tr th {\n        vertical-align: top;\n    }\n\n    .dataframe thead th {\n        text-align: right;\n    }\n</style>\n<table border=\"1\" class=\"dataframe\">\n  <thead>\n    <tr style=\"text-align: right;\">\n      <th></th>\n      <th>date</th>\n      <th>home_team</th>\n      <th>away_team</th>\n      <th>home_score</th>\n      <th>away_score</th>\n      <th>tournament</th>\n      <th>city</th>\n      <th>country</th>\n      <th>neutral</th>\n      <th>shootout_winner</th>\n      <th>total_goals</th>\n      <th>win_margin</th>\n    </tr>\n  </thead>\n  <tbody>\n    <tr>\n      <th>1311</th>\n      <td>1930-07-13</td>\n      <td>belgium</td>\n      <td>united states</td>\n      <td>0</td>\n      <td>3</td>\n      <td>fifa world cup</td>\n      <td>montevideo</td>\n      <td>uruguay</td>\n      <td>True</td>\n      <td>NaN</td>\n      <td>3</td>\n      <td>-3</td>\n    </tr>\n    <tr>\n      <th>1312</th>\n      <td>1930-07-13</td>\n      <td>france</td>\n      <td>mexico</td>\n      <td>4</td>\n      <td>1</td>\n      <td>fifa world cup</td>\n      <td>montevideo</td>\n      <td>uruguay</td>\n      <td>True</td>\n      <td>NaN</td>\n      <td>5</td>\n      <td>3</td>\n    </tr>\n    <tr>\n      <th>1313</th>\n      <td>1930-07-14</td>\n      <td>brazil</td>\n      <td>yugoslavia</td>\n      <td>1</td>\n      <td>2</td>\n      <td>fifa world cup</td>\n      <td>montevideo</td>\n      <td>uruguay</td>\n      <td>True</td>\n      <td>NaN</td>\n      <td>3</td>\n      <td>-1</td>\n    </tr>\n    <tr>\n      <th>1314</th>\n      <td>1930-07-14</td>\n      <td>peru</td>\n      <td>romania</td>\n      <td>1</td>\n      <td>3</td>\n      <td>fifa world cup</td>\n      <td>montevideo</td>\n      <td>uruguay</td>\n      <td>True</td>\n      <td>NaN</td>\n      <td>4</td>\n      <td>-2</td>\n    </tr>\n    <tr>\n      <th>1315</th>\n      <td>1930-07-15</td>\n      <td>argentina</td>\n      <td>france</td>\n      <td>1</td>\n      <td>0</td>\n      <td>fifa world cup</td>\n      <td>montevideo</td>\n      <td>uruguay</td>\n      <td>True</td>\n      <td>NaN</td>\n      <td>1</td>\n      <td>1</td>\n    </tr>\n  </tbody>\n</table>\n</div>"
     },
     "execution_count": 18,
     "metadata": {},
     "output_type": "execute_result"
    }
   ],
   "source": [
    "# Rename the 'winner' column to 'shootout_winner'\n",
    "fifa_wc.rename(columns={'winner': 'shootout_winner'}, inplace=True)\n",
    "\n",
    "# Show the first five (5) rows of the FIFA World Cup dataset\n",
    "fifa_wc.head()"
   ]
  },
  {
   "cell_type": "markdown",
   "id": "99ab2a0de8bc0393",
   "metadata": {
    "collapsed": false
   },
   "source": [
    "Now, let's re-create the `winner` column to determine the winners of each match that did't end in a penalty shootout and without any missing value (`NaN`) like before. \n",
    "\n",
    "We will use the `shootout_winner` and `win_margin` columns to determine the winner of each match. We need to handle the `NaN` values in the `shootout_winner` column by converting the column to `string` values and use the string comparison method to test if each value is `NaN`. \n",
    "\n",
    "Pandas has a built it method which is `pd.isna()` that can be used to test if a value is `NaN`."
   ]
  },
  {
   "cell_type": "code",
   "execution_count": 19,
   "id": "c11e878505eeabef",
   "metadata": {
    "collapsed": false,
    "ExecuteTime": {
     "end_time": "2024-07-22T20:54:13.342761200Z",
     "start_time": "2024-07-22T20:54:13.208708600Z"
    }
   },
   "outputs": [],
   "source": [
    "# Determine the winner of each match\n",
    "def determine_winner(row):\n",
    "    if not pd.isna(row['shootout_winner']):\n",
    "        winner = row['shootout_winner']\n",
    "        \n",
    "    elif row['win_margin'] > 0:\n",
    "        winner = row['home_team']\n",
    "        \n",
    "    elif row['win_margin'] < 0:\n",
    "        winner = row['away_team']\n",
    "        \n",
    "    else:\n",
    "        winner = 'draw'\n",
    "        \n",
    "    return winner"
   ]
  },
  {
   "cell_type": "code",
   "execution_count": 20,
   "id": "c0993ca98ede72c3",
   "metadata": {
    "collapsed": false,
    "ExecuteTime": {
     "end_time": "2024-07-22T20:54:13.473484800Z",
     "start_time": "2024-07-22T20:54:13.213716900Z"
    }
   },
   "outputs": [
    {
     "data": {
      "text/plain": "            date  home_team      away_team  home_score  away_score  \\\n1311  1930-07-13    belgium  united states           0           3   \n1312  1930-07-13     france         mexico           4           1   \n1313  1930-07-14     brazil     yugoslavia           1           2   \n1314  1930-07-14       peru        romania           1           3   \n1315  1930-07-15  argentina         france           1           0   \n\n          tournament        city  country  neutral shootout_winner  \\\n1311  fifa world cup  montevideo  uruguay     True             NaN   \n1312  fifa world cup  montevideo  uruguay     True             NaN   \n1313  fifa world cup  montevideo  uruguay     True             NaN   \n1314  fifa world cup  montevideo  uruguay     True             NaN   \n1315  fifa world cup  montevideo  uruguay     True             NaN   \n\n      total_goals  win_margin         winner  \n1311            3          -3  united states  \n1312            5           3         france  \n1313            3          -1     yugoslavia  \n1314            4          -2        romania  \n1315            1           1      argentina  ",
      "text/html": "<div>\n<style scoped>\n    .dataframe tbody tr th:only-of-type {\n        vertical-align: middle;\n    }\n\n    .dataframe tbody tr th {\n        vertical-align: top;\n    }\n\n    .dataframe thead th {\n        text-align: right;\n    }\n</style>\n<table border=\"1\" class=\"dataframe\">\n  <thead>\n    <tr style=\"text-align: right;\">\n      <th></th>\n      <th>date</th>\n      <th>home_team</th>\n      <th>away_team</th>\n      <th>home_score</th>\n      <th>away_score</th>\n      <th>tournament</th>\n      <th>city</th>\n      <th>country</th>\n      <th>neutral</th>\n      <th>shootout_winner</th>\n      <th>total_goals</th>\n      <th>win_margin</th>\n      <th>winner</th>\n    </tr>\n  </thead>\n  <tbody>\n    <tr>\n      <th>1311</th>\n      <td>1930-07-13</td>\n      <td>belgium</td>\n      <td>united states</td>\n      <td>0</td>\n      <td>3</td>\n      <td>fifa world cup</td>\n      <td>montevideo</td>\n      <td>uruguay</td>\n      <td>True</td>\n      <td>NaN</td>\n      <td>3</td>\n      <td>-3</td>\n      <td>united states</td>\n    </tr>\n    <tr>\n      <th>1312</th>\n      <td>1930-07-13</td>\n      <td>france</td>\n      <td>mexico</td>\n      <td>4</td>\n      <td>1</td>\n      <td>fifa world cup</td>\n      <td>montevideo</td>\n      <td>uruguay</td>\n      <td>True</td>\n      <td>NaN</td>\n      <td>5</td>\n      <td>3</td>\n      <td>france</td>\n    </tr>\n    <tr>\n      <th>1313</th>\n      <td>1930-07-14</td>\n      <td>brazil</td>\n      <td>yugoslavia</td>\n      <td>1</td>\n      <td>2</td>\n      <td>fifa world cup</td>\n      <td>montevideo</td>\n      <td>uruguay</td>\n      <td>True</td>\n      <td>NaN</td>\n      <td>3</td>\n      <td>-1</td>\n      <td>yugoslavia</td>\n    </tr>\n    <tr>\n      <th>1314</th>\n      <td>1930-07-14</td>\n      <td>peru</td>\n      <td>romania</td>\n      <td>1</td>\n      <td>3</td>\n      <td>fifa world cup</td>\n      <td>montevideo</td>\n      <td>uruguay</td>\n      <td>True</td>\n      <td>NaN</td>\n      <td>4</td>\n      <td>-2</td>\n      <td>romania</td>\n    </tr>\n    <tr>\n      <th>1315</th>\n      <td>1930-07-15</td>\n      <td>argentina</td>\n      <td>france</td>\n      <td>1</td>\n      <td>0</td>\n      <td>fifa world cup</td>\n      <td>montevideo</td>\n      <td>uruguay</td>\n      <td>True</td>\n      <td>NaN</td>\n      <td>1</td>\n      <td>1</td>\n      <td>argentina</td>\n    </tr>\n  </tbody>\n</table>\n</div>"
     },
     "execution_count": 20,
     "metadata": {},
     "output_type": "execute_result"
    }
   ],
   "source": [
    "# Apply the determine_winner function to the FIFA World Cup dataset\n",
    "fifa_wc['winner'] = fifa_wc.apply(determine_winner, axis=1)\n",
    "\n",
    "# Show the first five (5) rows of the FIFA World Cup dataset\n",
    "fifa_wc.head()"
   ]
  },
  {
   "cell_type": "code",
   "execution_count": 21,
   "id": "a7e24fde80bc6be2",
   "metadata": {
    "collapsed": false,
    "ExecuteTime": {
     "end_time": "2024-07-22T20:54:13.474485800Z",
     "start_time": "2024-07-22T20:54:13.241488200Z"
    }
   },
   "outputs": [
    {
     "name": "stdout",
     "output_type": "stream",
     "text": [
      "<class 'pandas.core.frame.DataFrame'>\n",
      "Int64Index: 964 entries, 1311 to 44358\n",
      "Data columns (total 13 columns):\n",
      " #   Column           Non-Null Count  Dtype \n",
      "---  ------           --------------  ----- \n",
      " 0   date             964 non-null    object\n",
      " 1   home_team        964 non-null    object\n",
      " 2   away_team        964 non-null    object\n",
      " 3   home_score       964 non-null    int64 \n",
      " 4   away_score       964 non-null    int64 \n",
      " 5   tournament       964 non-null    object\n",
      " 6   city             964 non-null    object\n",
      " 7   country          964 non-null    object\n",
      " 8   neutral          964 non-null    bool  \n",
      " 9   shootout_winner  35 non-null     object\n",
      " 10  total_goals      964 non-null    int64 \n",
      " 11  win_margin       964 non-null    int64 \n",
      " 12  winner           964 non-null    object\n",
      "dtypes: bool(1), int64(4), object(8)\n",
      "memory usage: 98.8+ KB\n"
     ]
    }
   ],
   "source": [
    "# Show the FIFA World Cup dataset information\n",
    "fifa_wc.info()"
   ]
  },
  {
   "cell_type": "markdown",
   "id": "3bec890c0ea42e25",
   "metadata": {
    "collapsed": false
   },
   "source": [
    "Now let's create new two additional columns using `winner` column.\n",
    "\n",
    "- `home_win`: A boolean column that indicates if the home team won the match, return `True` if the `winner` is the `home_team` and `False` otherwise\n",
    "- `away_win`: A boolean column that indicates if the away team won the match, return `True` if the `winner` is the `away_team` and `False` otherwise"
   ]
  },
  {
   "cell_type": "code",
   "execution_count": 22,
   "id": "7d2df73f151c05b5",
   "metadata": {
    "collapsed": false,
    "ExecuteTime": {
     "end_time": "2024-07-22T20:54:13.476485500Z",
     "start_time": "2024-07-22T20:54:13.264240200Z"
    }
   },
   "outputs": [
    {
     "data": {
      "text/plain": "            date  home_team      away_team  home_score  away_score  \\\n1311  1930-07-13    belgium  united states           0           3   \n1312  1930-07-13     france         mexico           4           1   \n1313  1930-07-14     brazil     yugoslavia           1           2   \n1314  1930-07-14       peru        romania           1           3   \n1315  1930-07-15  argentina         france           1           0   \n\n          tournament        city  country  neutral shootout_winner  \\\n1311  fifa world cup  montevideo  uruguay     True             NaN   \n1312  fifa world cup  montevideo  uruguay     True             NaN   \n1313  fifa world cup  montevideo  uruguay     True             NaN   \n1314  fifa world cup  montevideo  uruguay     True             NaN   \n1315  fifa world cup  montevideo  uruguay     True             NaN   \n\n      total_goals  win_margin         winner  home_win  away_win  \n1311            3          -3  united states     False      True  \n1312            5           3         france      True     False  \n1313            3          -1     yugoslavia     False      True  \n1314            4          -2        romania     False      True  \n1315            1           1      argentina      True     False  ",
      "text/html": "<div>\n<style scoped>\n    .dataframe tbody tr th:only-of-type {\n        vertical-align: middle;\n    }\n\n    .dataframe tbody tr th {\n        vertical-align: top;\n    }\n\n    .dataframe thead th {\n        text-align: right;\n    }\n</style>\n<table border=\"1\" class=\"dataframe\">\n  <thead>\n    <tr style=\"text-align: right;\">\n      <th></th>\n      <th>date</th>\n      <th>home_team</th>\n      <th>away_team</th>\n      <th>home_score</th>\n      <th>away_score</th>\n      <th>tournament</th>\n      <th>city</th>\n      <th>country</th>\n      <th>neutral</th>\n      <th>shootout_winner</th>\n      <th>total_goals</th>\n      <th>win_margin</th>\n      <th>winner</th>\n      <th>home_win</th>\n      <th>away_win</th>\n    </tr>\n  </thead>\n  <tbody>\n    <tr>\n      <th>1311</th>\n      <td>1930-07-13</td>\n      <td>belgium</td>\n      <td>united states</td>\n      <td>0</td>\n      <td>3</td>\n      <td>fifa world cup</td>\n      <td>montevideo</td>\n      <td>uruguay</td>\n      <td>True</td>\n      <td>NaN</td>\n      <td>3</td>\n      <td>-3</td>\n      <td>united states</td>\n      <td>False</td>\n      <td>True</td>\n    </tr>\n    <tr>\n      <th>1312</th>\n      <td>1930-07-13</td>\n      <td>france</td>\n      <td>mexico</td>\n      <td>4</td>\n      <td>1</td>\n      <td>fifa world cup</td>\n      <td>montevideo</td>\n      <td>uruguay</td>\n      <td>True</td>\n      <td>NaN</td>\n      <td>5</td>\n      <td>3</td>\n      <td>france</td>\n      <td>True</td>\n      <td>False</td>\n    </tr>\n    <tr>\n      <th>1313</th>\n      <td>1930-07-14</td>\n      <td>brazil</td>\n      <td>yugoslavia</td>\n      <td>1</td>\n      <td>2</td>\n      <td>fifa world cup</td>\n      <td>montevideo</td>\n      <td>uruguay</td>\n      <td>True</td>\n      <td>NaN</td>\n      <td>3</td>\n      <td>-1</td>\n      <td>yugoslavia</td>\n      <td>False</td>\n      <td>True</td>\n    </tr>\n    <tr>\n      <th>1314</th>\n      <td>1930-07-14</td>\n      <td>peru</td>\n      <td>romania</td>\n      <td>1</td>\n      <td>3</td>\n      <td>fifa world cup</td>\n      <td>montevideo</td>\n      <td>uruguay</td>\n      <td>True</td>\n      <td>NaN</td>\n      <td>4</td>\n      <td>-2</td>\n      <td>romania</td>\n      <td>False</td>\n      <td>True</td>\n    </tr>\n    <tr>\n      <th>1315</th>\n      <td>1930-07-15</td>\n      <td>argentina</td>\n      <td>france</td>\n      <td>1</td>\n      <td>0</td>\n      <td>fifa world cup</td>\n      <td>montevideo</td>\n      <td>uruguay</td>\n      <td>True</td>\n      <td>NaN</td>\n      <td>1</td>\n      <td>1</td>\n      <td>argentina</td>\n      <td>True</td>\n      <td>False</td>\n    </tr>\n  </tbody>\n</table>\n</div>"
     },
     "execution_count": 22,
     "metadata": {},
     "output_type": "execute_result"
    }
   ],
   "source": [
    "# Create a new column 'home_win' that indicates if the home team won the match\n",
    "fifa_wc['home_win'] = fifa_wc['winner'] == fifa_wc['home_team']\n",
    "\n",
    "# Create a new column 'away_win' that indicates if the away team won the match\n",
    "fifa_wc['away_win'] = fifa_wc['winner'] == fifa_wc['away_team']\n",
    "\n",
    "# Show the first five (5) rows of the FIFA World Cup dataset\n",
    "fifa_wc.head()"
   ]
  },
  {
   "cell_type": "markdown",
   "id": "79501efa8a29df4f",
   "metadata": {
    "collapsed": false
   },
   "source": [
    "As you can see, our dataset is now contains a lot of new information, such as the total number of goals scored in each match, the margin of victory, and the winner of each match. Now let's clean up the dataset by dropping redundant columns.\n",
    "\n",
    "Let's drop the following columns:\n",
    "\n",
    "- `tournament`: We are only analyzing FIFA World Cup matches\n",
    "- `city`: We are only interested in the country where the match was played\n",
    "- `shootout_winner`: We have already determined the winner of each match"
   ]
  },
  {
   "cell_type": "code",
   "execution_count": 23,
   "id": "ddaf1cc6a26b5e21",
   "metadata": {
    "collapsed": false,
    "ExecuteTime": {
     "end_time": "2024-07-22T20:54:13.477156900Z",
     "start_time": "2024-07-22T20:54:13.269563100Z"
    }
   },
   "outputs": [
    {
     "data": {
      "text/plain": "            date  home_team      away_team  home_score  away_score  country  \\\n1311  1930-07-13    belgium  united states           0           3  uruguay   \n1312  1930-07-13     france         mexico           4           1  uruguay   \n1313  1930-07-14     brazil     yugoslavia           1           2  uruguay   \n1314  1930-07-14       peru        romania           1           3  uruguay   \n1315  1930-07-15  argentina         france           1           0  uruguay   \n\n      neutral  total_goals  win_margin         winner  home_win  away_win  \n1311     True            3          -3  united states     False      True  \n1312     True            5           3         france      True     False  \n1313     True            3          -1     yugoslavia     False      True  \n1314     True            4          -2        romania     False      True  \n1315     True            1           1      argentina      True     False  ",
      "text/html": "<div>\n<style scoped>\n    .dataframe tbody tr th:only-of-type {\n        vertical-align: middle;\n    }\n\n    .dataframe tbody tr th {\n        vertical-align: top;\n    }\n\n    .dataframe thead th {\n        text-align: right;\n    }\n</style>\n<table border=\"1\" class=\"dataframe\">\n  <thead>\n    <tr style=\"text-align: right;\">\n      <th></th>\n      <th>date</th>\n      <th>home_team</th>\n      <th>away_team</th>\n      <th>home_score</th>\n      <th>away_score</th>\n      <th>country</th>\n      <th>neutral</th>\n      <th>total_goals</th>\n      <th>win_margin</th>\n      <th>winner</th>\n      <th>home_win</th>\n      <th>away_win</th>\n    </tr>\n  </thead>\n  <tbody>\n    <tr>\n      <th>1311</th>\n      <td>1930-07-13</td>\n      <td>belgium</td>\n      <td>united states</td>\n      <td>0</td>\n      <td>3</td>\n      <td>uruguay</td>\n      <td>True</td>\n      <td>3</td>\n      <td>-3</td>\n      <td>united states</td>\n      <td>False</td>\n      <td>True</td>\n    </tr>\n    <tr>\n      <th>1312</th>\n      <td>1930-07-13</td>\n      <td>france</td>\n      <td>mexico</td>\n      <td>4</td>\n      <td>1</td>\n      <td>uruguay</td>\n      <td>True</td>\n      <td>5</td>\n      <td>3</td>\n      <td>france</td>\n      <td>True</td>\n      <td>False</td>\n    </tr>\n    <tr>\n      <th>1313</th>\n      <td>1930-07-14</td>\n      <td>brazil</td>\n      <td>yugoslavia</td>\n      <td>1</td>\n      <td>2</td>\n      <td>uruguay</td>\n      <td>True</td>\n      <td>3</td>\n      <td>-1</td>\n      <td>yugoslavia</td>\n      <td>False</td>\n      <td>True</td>\n    </tr>\n    <tr>\n      <th>1314</th>\n      <td>1930-07-14</td>\n      <td>peru</td>\n      <td>romania</td>\n      <td>1</td>\n      <td>3</td>\n      <td>uruguay</td>\n      <td>True</td>\n      <td>4</td>\n      <td>-2</td>\n      <td>romania</td>\n      <td>False</td>\n      <td>True</td>\n    </tr>\n    <tr>\n      <th>1315</th>\n      <td>1930-07-15</td>\n      <td>argentina</td>\n      <td>france</td>\n      <td>1</td>\n      <td>0</td>\n      <td>uruguay</td>\n      <td>True</td>\n      <td>1</td>\n      <td>1</td>\n      <td>argentina</td>\n      <td>True</td>\n      <td>False</td>\n    </tr>\n  </tbody>\n</table>\n</div>"
     },
     "execution_count": 23,
     "metadata": {},
     "output_type": "execute_result"
    }
   ],
   "source": [
    "# Drop the 'tournament', 'city', and 'shootout_winner' columns\n",
    "fifa_wc.drop(columns=['tournament', 'city', 'shootout_winner'], inplace=True)\n",
    "\n",
    "# Show the first five (5) rows of the FIFA World Cup dataset\n",
    "fifa_wc.head()"
   ]
  },
  {
   "cell_type": "code",
   "execution_count": 24,
   "id": "4b86136763c0bdfb",
   "metadata": {
    "collapsed": false,
    "ExecuteTime": {
     "end_time": "2024-07-22T20:54:13.534276500Z",
     "start_time": "2024-07-22T20:54:13.282083400Z"
    }
   },
   "outputs": [
    {
     "name": "stdout",
     "output_type": "stream",
     "text": [
      "<class 'pandas.core.frame.DataFrame'>\n",
      "Int64Index: 964 entries, 1311 to 44358\n",
      "Data columns (total 12 columns):\n",
      " #   Column       Non-Null Count  Dtype \n",
      "---  ------       --------------  ----- \n",
      " 0   date         964 non-null    object\n",
      " 1   home_team    964 non-null    object\n",
      " 2   away_team    964 non-null    object\n",
      " 3   home_score   964 non-null    int64 \n",
      " 4   away_score   964 non-null    int64 \n",
      " 5   country      964 non-null    object\n",
      " 6   neutral      964 non-null    bool  \n",
      " 7   total_goals  964 non-null    int64 \n",
      " 8   win_margin   964 non-null    int64 \n",
      " 9   winner       964 non-null    object\n",
      " 10  home_win     964 non-null    bool  \n",
      " 11  away_win     964 non-null    bool  \n",
      "dtypes: bool(3), int64(4), object(5)\n",
      "memory usage: 78.1+ KB\n"
     ]
    }
   ],
   "source": [
    "# Show the FIFA World Cup dataset information\n",
    "fifa_wc.info()"
   ]
  },
  {
   "cell_type": "markdown",
   "id": "509b142137889c35",
   "metadata": {
    "collapsed": false
   },
   "source": [
    "Now that we have cleaned the dataset, we can proceed to analyze the data and answer the questions we have set out to answer.\n",
    "\n",
    "## Exploratory Data Analysis\n",
    "\n",
    "### Question 1. Do teams perform better when playing as the host team in?\n",
    "\n",
    "If you'll notice, the home team in our dataset is slightly misleading. In the World Cup, one team is always designated as the home team even if they are not playing in their home country. This is because the home team is typically listed first in the match-up. But what we really wanted to know is whether teams perform better when playing in their home country or not. \n",
    "\n",
    "In some ways, we can tell that the designated home team is also the host team for that match. Matches where `home_team` and `country` are the same are considered home matches and matches where `neutral` is `False` are considered.\n",
    "\n",
    "First, let's count how many matches were played where the home team is also the host team."
   ]
  },
  {
   "cell_type": "code",
   "execution_count": 25,
   "id": "e1b5b5a169268cd1",
   "metadata": {
    "collapsed": false,
    "ExecuteTime": {
     "end_time": "2024-07-22T20:54:13.535277500Z",
     "start_time": "2024-07-22T20:54:13.293165300Z"
    }
   },
   "outputs": [
    {
     "data": {
      "text/plain": "True     843\nFalse    121\nName: neutral, dtype: int64"
     },
     "execution_count": 25,
     "metadata": {},
     "output_type": "execute_result"
    }
   ],
   "source": [
    "# Count the number of matches where the home team is also the host team\n",
    "fifa_wc['neutral'].value_counts()"
   ]
  },
  {
   "cell_type": "markdown",
   "id": "eb61b5074946b59e",
   "metadata": {
    "collapsed": false
   },
   "source": [
    "As you can see, there are **843** matches where the home team is also the host team.\n",
    "\n",
    "But again, we need to remember that the home team is not always the host team. We need to count the number of matches where the home team is playing in their home country.\n",
    "\n",
    "Now, let's split the FIFA World Cup matches for matches played by host team."
   ]
  },
  {
   "cell_type": "code",
   "execution_count": 26,
   "id": "4961fe19c3327b0d",
   "metadata": {
    "collapsed": false,
    "ExecuteTime": {
     "end_time": "2024-07-22T20:54:13.621827100Z",
     "start_time": "2024-07-22T20:54:13.302709700Z"
    }
   },
   "outputs": [
    {
     "data": {
      "text/plain": "            date home_team      away_team  home_score  away_score  country  \\\n1320  1930-07-18   uruguay           peru           1           0  uruguay   \n1325  1930-07-21   uruguay        romania           4           0  uruguay   \n1329  1930-07-27   uruguay     yugoslavia           6           1  uruguay   \n1330  1930-07-30   uruguay      argentina           4           2  uruguay   \n1694  1934-05-27     italy  united states           7           1    italy   \n\n      neutral  total_goals  win_margin   winner  home_win  away_win  \n1320    False            1           1  uruguay      True     False  \n1325    False            4           4  uruguay      True     False  \n1329    False            7           5  uruguay      True     False  \n1330    False            6           2  uruguay      True     False  \n1694    False            8           6    italy      True     False  ",
      "text/html": "<div>\n<style scoped>\n    .dataframe tbody tr th:only-of-type {\n        vertical-align: middle;\n    }\n\n    .dataframe tbody tr th {\n        vertical-align: top;\n    }\n\n    .dataframe thead th {\n        text-align: right;\n    }\n</style>\n<table border=\"1\" class=\"dataframe\">\n  <thead>\n    <tr style=\"text-align: right;\">\n      <th></th>\n      <th>date</th>\n      <th>home_team</th>\n      <th>away_team</th>\n      <th>home_score</th>\n      <th>away_score</th>\n      <th>country</th>\n      <th>neutral</th>\n      <th>total_goals</th>\n      <th>win_margin</th>\n      <th>winner</th>\n      <th>home_win</th>\n      <th>away_win</th>\n    </tr>\n  </thead>\n  <tbody>\n    <tr>\n      <th>1320</th>\n      <td>1930-07-18</td>\n      <td>uruguay</td>\n      <td>peru</td>\n      <td>1</td>\n      <td>0</td>\n      <td>uruguay</td>\n      <td>False</td>\n      <td>1</td>\n      <td>1</td>\n      <td>uruguay</td>\n      <td>True</td>\n      <td>False</td>\n    </tr>\n    <tr>\n      <th>1325</th>\n      <td>1930-07-21</td>\n      <td>uruguay</td>\n      <td>romania</td>\n      <td>4</td>\n      <td>0</td>\n      <td>uruguay</td>\n      <td>False</td>\n      <td>4</td>\n      <td>4</td>\n      <td>uruguay</td>\n      <td>True</td>\n      <td>False</td>\n    </tr>\n    <tr>\n      <th>1329</th>\n      <td>1930-07-27</td>\n      <td>uruguay</td>\n      <td>yugoslavia</td>\n      <td>6</td>\n      <td>1</td>\n      <td>uruguay</td>\n      <td>False</td>\n      <td>7</td>\n      <td>5</td>\n      <td>uruguay</td>\n      <td>True</td>\n      <td>False</td>\n    </tr>\n    <tr>\n      <th>1330</th>\n      <td>1930-07-30</td>\n      <td>uruguay</td>\n      <td>argentina</td>\n      <td>4</td>\n      <td>2</td>\n      <td>uruguay</td>\n      <td>False</td>\n      <td>6</td>\n      <td>2</td>\n      <td>uruguay</td>\n      <td>True</td>\n      <td>False</td>\n    </tr>\n    <tr>\n      <th>1694</th>\n      <td>1934-05-27</td>\n      <td>italy</td>\n      <td>united states</td>\n      <td>7</td>\n      <td>1</td>\n      <td>italy</td>\n      <td>False</td>\n      <td>8</td>\n      <td>6</td>\n      <td>italy</td>\n      <td>True</td>\n      <td>False</td>\n    </tr>\n  </tbody>\n</table>\n</div>"
     },
     "execution_count": 26,
     "metadata": {},
     "output_type": "execute_result"
    }
   ],
   "source": [
    "# Split the FIFA World Cup matches for matches played by host team\n",
    "host_team_mask = fifa_wc['home_team'] == fifa_wc['country']\n",
    "host_team = fifa_wc[host_team_mask]\n",
    "\n",
    "# Show the first five (5) rows of the host team dataset\n",
    "host_team.head()"
   ]
  },
  {
   "cell_type": "markdown",
   "id": "84d8cca7b1b27c20",
   "metadata": {
    "collapsed": false
   },
   "source": [
    "Let's now compute the summary statistics for the matches played by the host team."
   ]
  },
  {
   "cell_type": "code",
   "execution_count": 27,
   "id": "777d5b3b16bdae68",
   "metadata": {
    "collapsed": false,
    "ExecuteTime": {
     "end_time": "2024-07-22T20:54:13.800341100Z",
     "start_time": "2024-07-22T20:54:13.318257500Z"
    }
   },
   "outputs": [
    {
     "data": {
      "text/plain": "       home_score  away_score  total_goals  win_margin\ncount  121.000000  121.000000   121.000000  121.000000\nmean     1.834711    0.991736     2.826446    0.842975\nstd      1.561768    1.268174     2.023519    2.000034\nmin      0.000000    0.000000     0.000000   -6.000000\n25%      1.000000    0.000000     1.000000    0.000000\n50%      2.000000    1.000000     3.000000    1.000000\n75%      2.000000    1.000000     4.000000    2.000000\nmax      7.000000    7.000000    12.000000    6.000000",
      "text/html": "<div>\n<style scoped>\n    .dataframe tbody tr th:only-of-type {\n        vertical-align: middle;\n    }\n\n    .dataframe tbody tr th {\n        vertical-align: top;\n    }\n\n    .dataframe thead th {\n        text-align: right;\n    }\n</style>\n<table border=\"1\" class=\"dataframe\">\n  <thead>\n    <tr style=\"text-align: right;\">\n      <th></th>\n      <th>home_score</th>\n      <th>away_score</th>\n      <th>total_goals</th>\n      <th>win_margin</th>\n    </tr>\n  </thead>\n  <tbody>\n    <tr>\n      <th>count</th>\n      <td>121.000000</td>\n      <td>121.000000</td>\n      <td>121.000000</td>\n      <td>121.000000</td>\n    </tr>\n    <tr>\n      <th>mean</th>\n      <td>1.834711</td>\n      <td>0.991736</td>\n      <td>2.826446</td>\n      <td>0.842975</td>\n    </tr>\n    <tr>\n      <th>std</th>\n      <td>1.561768</td>\n      <td>1.268174</td>\n      <td>2.023519</td>\n      <td>2.000034</td>\n    </tr>\n    <tr>\n      <th>min</th>\n      <td>0.000000</td>\n      <td>0.000000</td>\n      <td>0.000000</td>\n      <td>-6.000000</td>\n    </tr>\n    <tr>\n      <th>25%</th>\n      <td>1.000000</td>\n      <td>0.000000</td>\n      <td>1.000000</td>\n      <td>0.000000</td>\n    </tr>\n    <tr>\n      <th>50%</th>\n      <td>2.000000</td>\n      <td>1.000000</td>\n      <td>3.000000</td>\n      <td>1.000000</td>\n    </tr>\n    <tr>\n      <th>75%</th>\n      <td>2.000000</td>\n      <td>1.000000</td>\n      <td>4.000000</td>\n      <td>2.000000</td>\n    </tr>\n    <tr>\n      <th>max</th>\n      <td>7.000000</td>\n      <td>7.000000</td>\n      <td>12.000000</td>\n      <td>6.000000</td>\n    </tr>\n  </tbody>\n</table>\n</div>"
     },
     "execution_count": 27,
     "metadata": {},
     "output_type": "execute_result"
    }
   ],
   "source": [
    "# Compute the summary statistics for matches played by the host team\n",
    "host_team.describe()"
   ]
  },
  {
   "cell_type": "code",
   "execution_count": 28,
   "id": "a0dc31ef33c910a1",
   "metadata": {
    "collapsed": false,
    "ExecuteTime": {
     "end_time": "2024-07-22T20:54:13.857203300Z",
     "start_time": "2024-07-22T20:54:13.334728900Z"
    }
   },
   "outputs": [
    {
     "data": {
      "text/plain": "18"
     },
     "execution_count": 28,
     "metadata": {},
     "output_type": "execute_result"
    }
   ],
   "source": [
    "# Display the number of unique home teams\n",
    "host_team['home_team'].nunique()"
   ]
  },
  {
   "cell_type": "code",
   "execution_count": 29,
   "id": "adfa0da9eb01dac",
   "metadata": {
    "collapsed": false,
    "ExecuteTime": {
     "end_time": "2024-07-22T20:54:13.907238700Z",
     "start_time": "2024-07-22T20:54:13.341762200Z"
    }
   },
   "outputs": [
    {
     "data": {
      "text/plain": "0.6528925619834711"
     },
     "execution_count": 29,
     "metadata": {},
     "output_type": "execute_result"
    }
   ],
   "source": [
    "# Show the average win of the host team\n",
    "host_team['home_win'].mean()"
   ]
  },
  {
   "cell_type": "markdown",
   "id": "be66577051ca7113",
   "metadata": {
    "collapsed": false
   },
   "source": [
    "As you can see, there are **18** unique home teams in the dataset that won about **65.3%** of their matches and with an average of **0.843** more goals that their opponents.\n",
    "\n",
    "Now let's compare their win record as host team to their win record as a non-host team.\n",
    "\n",
    "Let's start by calculating the percentage of the host team's wins as the host team."
   ]
  },
  {
   "cell_type": "code",
   "execution_count": 30,
   "id": "5f9a60c0756a87eb",
   "metadata": {
    "collapsed": false,
    "ExecuteTime": {
     "end_time": "2024-07-22T20:54:13.927176400Z",
     "start_time": "2024-07-22T20:54:13.349920900Z"
    }
   },
   "outputs": [
    {
     "data": {
      "text/plain": "        team  win_percentage\n0  argentina        0.714286\n1     brazil        0.615385\n2      chile        0.666667\n3    england        0.833333\n4     france        0.888889",
      "text/html": "<div>\n<style scoped>\n    .dataframe tbody tr th:only-of-type {\n        vertical-align: middle;\n    }\n\n    .dataframe tbody tr th {\n        vertical-align: top;\n    }\n\n    .dataframe thead th {\n        text-align: right;\n    }\n</style>\n<table border=\"1\" class=\"dataframe\">\n  <thead>\n    <tr style=\"text-align: right;\">\n      <th></th>\n      <th>team</th>\n      <th>win_percentage</th>\n    </tr>\n  </thead>\n  <tbody>\n    <tr>\n      <th>0</th>\n      <td>argentina</td>\n      <td>0.714286</td>\n    </tr>\n    <tr>\n      <th>1</th>\n      <td>brazil</td>\n      <td>0.615385</td>\n    </tr>\n    <tr>\n      <th>2</th>\n      <td>chile</td>\n      <td>0.666667</td>\n    </tr>\n    <tr>\n      <th>3</th>\n      <td>england</td>\n      <td>0.833333</td>\n    </tr>\n    <tr>\n      <th>4</th>\n      <td>france</td>\n      <td>0.888889</td>\n    </tr>\n  </tbody>\n</table>\n</div>"
     },
     "execution_count": 30,
     "metadata": {},
     "output_type": "execute_result"
    }
   ],
   "source": [
    "# Calculate the percentage of the host team's wins as the host team\n",
    "host_team_win_percentage = host_team.groupby('home_team')['home_win'].mean().reset_index()\n",
    "host_team_win_percentage.columns = ['team', 'win_percentage']\n",
    "\n",
    "# Show the first five (5) rows of the host team win percentage\n",
    "host_team_win_percentage.head()"
   ]
  },
  {
   "cell_type": "markdown",
   "id": "7fd9a31a7cfb96eb",
   "metadata": {
    "collapsed": false
   },
   "source": [
    "Now let's calculate the percentage of the host team's wins as the non-host team.\n",
    "\n",
    "To make ths calculation, we need to perform a **Split-Apply-Combine** operation. We will split the dataset into two groups: matches where the home team is the host team and matches where the home team is not the host team.\n",
    "\n",
    "For each team, we will calculate the win percentage as the non-host team ad away team win percentage."
   ]
  },
  {
   "cell_type": "code",
   "execution_count": 31,
   "id": "16cb1a08dc1b1908",
   "metadata": {
    "collapsed": false,
    "ExecuteTime": {
     "end_time": "2024-07-22T20:54:13.950298800Z",
     "start_time": "2024-07-22T20:54:13.362444100Z"
    }
   },
   "outputs": [
    {
     "data": {
      "text/plain": "        team  wins_x  num_games_x  wins_y  num_games_y\n0    algeria     1.0          6.0     2.0          7.0\n1     angola     0.0          1.0     0.0          2.0\n2  argentina    39.0         58.0     8.0         19.0\n3  australia     3.0          7.0     1.0         12.0\n4    austria     9.0         20.0     2.0          6.0",
      "text/html": "<div>\n<style scoped>\n    .dataframe tbody tr th:only-of-type {\n        vertical-align: middle;\n    }\n\n    .dataframe tbody tr th {\n        vertical-align: top;\n    }\n\n    .dataframe thead th {\n        text-align: right;\n    }\n</style>\n<table border=\"1\" class=\"dataframe\">\n  <thead>\n    <tr style=\"text-align: right;\">\n      <th></th>\n      <th>team</th>\n      <th>wins_x</th>\n      <th>num_games_x</th>\n      <th>wins_y</th>\n      <th>num_games_y</th>\n    </tr>\n  </thead>\n  <tbody>\n    <tr>\n      <th>0</th>\n      <td>algeria</td>\n      <td>1.0</td>\n      <td>6.0</td>\n      <td>2.0</td>\n      <td>7.0</td>\n    </tr>\n    <tr>\n      <th>1</th>\n      <td>angola</td>\n      <td>0.0</td>\n      <td>1.0</td>\n      <td>0.0</td>\n      <td>2.0</td>\n    </tr>\n    <tr>\n      <th>2</th>\n      <td>argentina</td>\n      <td>39.0</td>\n      <td>58.0</td>\n      <td>8.0</td>\n      <td>19.0</td>\n    </tr>\n    <tr>\n      <th>3</th>\n      <td>australia</td>\n      <td>3.0</td>\n      <td>7.0</td>\n      <td>1.0</td>\n      <td>12.0</td>\n    </tr>\n    <tr>\n      <th>4</th>\n      <td>austria</td>\n      <td>9.0</td>\n      <td>20.0</td>\n      <td>2.0</td>\n      <td>6.0</td>\n    </tr>\n  </tbody>\n</table>\n</div>"
     },
     "execution_count": 31,
     "metadata": {},
     "output_type": "execute_result"
    }
   ],
   "source": [
    "# Calculate the percentage of the host team's wins as the non-host team\n",
    "non_host_team = fifa_wc[~host_team_mask]\n",
    "non_host_team_win_percentage = non_host_team.groupby('home_team').agg({'home_win': 'sum', 'date': 'count'}).reset_index()\n",
    "non_host_team_win_percentage.columns = ['team', 'wins', 'num_games']\n",
    "\n",
    "# Calculate the away team win percentage\n",
    "non_host_team_away_win_percentage = non_host_team.groupby('away_team').agg({'away_win': 'sum', 'date': 'count'}).reset_index()\n",
    "non_host_team_away_win_percentage.columns = ['team', 'wins', 'num_games']\n",
    "\n",
    "# Merge non-host team and away team win percentage\n",
    "non_host_record = pd.merge(left=non_host_team_win_percentage, right=non_host_team_away_win_percentage, on=['team'], how='outer')\n",
    "\n",
    "# Show the first five (5) rows of the non-host team win percentage\n",
    "non_host_record.head()"
   ]
  },
  {
   "cell_type": "markdown",
   "id": "697da24d45d6f905",
   "metadata": {
    "collapsed": false
   },
   "source": [
    "Now let's calculate the win percentage of non-host, we need to add up the total wins and divide them by the total number of games played."
   ]
  },
  {
   "cell_type": "code",
   "execution_count": 32,
   "id": "f62542fd6797a59c",
   "metadata": {
    "collapsed": false,
    "ExecuteTime": {
     "end_time": "2024-07-22T20:54:13.998561700Z",
     "start_time": "2024-07-22T20:54:13.385384900Z"
    }
   },
   "outputs": [
    {
     "data": {
      "text/plain": "        team  non_host_win_percentage\n0    algeria                 0.230769\n1     angola                 0.000000\n2  argentina                 0.610390\n3  australia                 0.210526\n4    austria                 0.423077",
      "text/html": "<div>\n<style scoped>\n    .dataframe tbody tr th:only-of-type {\n        vertical-align: middle;\n    }\n\n    .dataframe tbody tr th {\n        vertical-align: top;\n    }\n\n    .dataframe thead th {\n        text-align: right;\n    }\n</style>\n<table border=\"1\" class=\"dataframe\">\n  <thead>\n    <tr style=\"text-align: right;\">\n      <th></th>\n      <th>team</th>\n      <th>non_host_win_percentage</th>\n    </tr>\n  </thead>\n  <tbody>\n    <tr>\n      <th>0</th>\n      <td>algeria</td>\n      <td>0.230769</td>\n    </tr>\n    <tr>\n      <th>1</th>\n      <td>angola</td>\n      <td>0.000000</td>\n    </tr>\n    <tr>\n      <th>2</th>\n      <td>argentina</td>\n      <td>0.610390</td>\n    </tr>\n    <tr>\n      <th>3</th>\n      <td>australia</td>\n      <td>0.210526</td>\n    </tr>\n    <tr>\n      <th>4</th>\n      <td>austria</td>\n      <td>0.423077</td>\n    </tr>\n  </tbody>\n</table>\n</div>"
     },
     "execution_count": 32,
     "metadata": {},
     "output_type": "execute_result"
    }
   ],
   "source": [
    "# Calculate the win percentage of non-host team\n",
    "non_host_record['non_host_win_percentage'] = (non_host_record['wins_x'] + non_host_record['wins_y']) / (non_host_record['num_games_x'] + non_host_record['num_games_y'])\n",
    "non_host_record = non_host_record[['team', 'non_host_win_percentage']]\n",
    "\n",
    "# Show the first five (5) rows of the non-host team win percentage\n",
    "non_host_record.head()"
   ]
  },
  {
   "cell_type": "markdown",
   "id": "9814f768a09a74fc",
   "metadata": {
    "collapsed": false
   },
   "source": [
    "Now, we need to merge the non-host record to the host record to perform comparisons. We'll use a left merge to keep any teams that have hosted the world cup but never appeared as non-hosts."
   ]
  },
  {
   "cell_type": "code",
   "execution_count": 33,
   "id": "1a37b54710fd409a",
   "metadata": {
    "collapsed": false,
    "ExecuteTime": {
     "end_time": "2024-07-22T20:54:13.999561600Z",
     "start_time": "2024-07-22T20:54:13.390415Z"
    }
   },
   "outputs": [
    {
     "data": {
      "text/plain": "        team  win_percentage  non_host_win_percentage\n0  argentina        0.714286                 0.610390\n1     brazil        0.615385                 0.708333\n2      chile        0.666667                 0.280000\n3    england        0.833333                 0.415385\n4     france        0.888889                 0.540984\n5    germany        0.857143                 0.604396\n6      italy        0.833333                 0.516129\n7      japan        0.500000                 0.238095\n8     mexico        0.555556                 0.260870\n9      qatar        0.000000                      NaN",
      "text/html": "<div>\n<style scoped>\n    .dataframe tbody tr th:only-of-type {\n        vertical-align: middle;\n    }\n\n    .dataframe tbody tr th {\n        vertical-align: top;\n    }\n\n    .dataframe thead th {\n        text-align: right;\n    }\n</style>\n<table border=\"1\" class=\"dataframe\">\n  <thead>\n    <tr style=\"text-align: right;\">\n      <th></th>\n      <th>team</th>\n      <th>win_percentage</th>\n      <th>non_host_win_percentage</th>\n    </tr>\n  </thead>\n  <tbody>\n    <tr>\n      <th>0</th>\n      <td>argentina</td>\n      <td>0.714286</td>\n      <td>0.610390</td>\n    </tr>\n    <tr>\n      <th>1</th>\n      <td>brazil</td>\n      <td>0.615385</td>\n      <td>0.708333</td>\n    </tr>\n    <tr>\n      <th>2</th>\n      <td>chile</td>\n      <td>0.666667</td>\n      <td>0.280000</td>\n    </tr>\n    <tr>\n      <th>3</th>\n      <td>england</td>\n      <td>0.833333</td>\n      <td>0.415385</td>\n    </tr>\n    <tr>\n      <th>4</th>\n      <td>france</td>\n      <td>0.888889</td>\n      <td>0.540984</td>\n    </tr>\n    <tr>\n      <th>5</th>\n      <td>germany</td>\n      <td>0.857143</td>\n      <td>0.604396</td>\n    </tr>\n    <tr>\n      <th>6</th>\n      <td>italy</td>\n      <td>0.833333</td>\n      <td>0.516129</td>\n    </tr>\n    <tr>\n      <th>7</th>\n      <td>japan</td>\n      <td>0.500000</td>\n      <td>0.238095</td>\n    </tr>\n    <tr>\n      <th>8</th>\n      <td>mexico</td>\n      <td>0.555556</td>\n      <td>0.260870</td>\n    </tr>\n    <tr>\n      <th>9</th>\n      <td>qatar</td>\n      <td>0.000000</td>\n      <td>NaN</td>\n    </tr>\n  </tbody>\n</table>\n</div>"
     },
     "execution_count": 33,
     "metadata": {},
     "output_type": "execute_result"
    }
   ],
   "source": [
    "# Merge the host team and non-host team win percentage\n",
    "host_vs_non_host = pd.merge(left=host_team_win_percentage, right=non_host_record, left_on='team', right_on='team', how='left')\n",
    "\n",
    "# Show the first ten (10) rows of the host vs non-host team win percentage\n",
    "host_vs_non_host.head(10)"
   ]
  },
  {
   "cell_type": "markdown",
   "id": "52165075b225e786",
   "metadata": {
    "collapsed": false
   },
   "source": [
    "Let's create a new column named `win_percentage_diff` that quantifies the difference in win percentage between the host and non-host teams."
   ]
  },
  {
   "cell_type": "code",
   "execution_count": 34,
   "id": "d5ac3faeaed6be91",
   "metadata": {
    "collapsed": false,
    "ExecuteTime": {
     "end_time": "2024-07-22T20:54:14.000559200Z",
     "start_time": "2024-07-22T20:54:13.411213500Z"
    }
   },
   "outputs": [
    {
     "data": {
      "text/plain": "             team  win_percentage  non_host_win_percentage  \\\n17        uruguay        1.000000                 0.380000   \n12    south korea        0.571429                 0.129032   \n3         england        0.833333                 0.415385   \n2           chile        0.666667                 0.280000   \n4          france        0.888889                 0.540984   \n6           italy        0.833333                 0.516129   \n8          mexico        0.555556                 0.260870   \n14         sweden        0.666667                 0.380952   \n7           japan        0.500000                 0.238095   \n5         germany        0.857143                 0.604396   \n15    switzerland        0.500000                 0.352941   \n11   south africa        0.333333                 0.200000   \n10         russia        0.600000                 0.472222   \n0       argentina        0.714286                 0.610390   \n16  united states        0.250000                 0.266667   \n1          brazil        0.615385                 0.708333   \n13          spain        0.200000                 0.543860   \n9           qatar        0.000000                      NaN   \n\n    win_percentage_diff  \n17             0.620000  \n12             0.442396  \n3              0.417949  \n2              0.386667  \n4              0.347905  \n6              0.317204  \n8              0.294686  \n14             0.285714  \n7              0.261905  \n5              0.252747  \n15             0.147059  \n11             0.133333  \n10             0.127778  \n0              0.103896  \n16            -0.016667  \n1             -0.092949  \n13            -0.343860  \n9                   NaN  ",
      "text/html": "<div>\n<style scoped>\n    .dataframe tbody tr th:only-of-type {\n        vertical-align: middle;\n    }\n\n    .dataframe tbody tr th {\n        vertical-align: top;\n    }\n\n    .dataframe thead th {\n        text-align: right;\n    }\n</style>\n<table border=\"1\" class=\"dataframe\">\n  <thead>\n    <tr style=\"text-align: right;\">\n      <th></th>\n      <th>team</th>\n      <th>win_percentage</th>\n      <th>non_host_win_percentage</th>\n      <th>win_percentage_diff</th>\n    </tr>\n  </thead>\n  <tbody>\n    <tr>\n      <th>17</th>\n      <td>uruguay</td>\n      <td>1.000000</td>\n      <td>0.380000</td>\n      <td>0.620000</td>\n    </tr>\n    <tr>\n      <th>12</th>\n      <td>south korea</td>\n      <td>0.571429</td>\n      <td>0.129032</td>\n      <td>0.442396</td>\n    </tr>\n    <tr>\n      <th>3</th>\n      <td>england</td>\n      <td>0.833333</td>\n      <td>0.415385</td>\n      <td>0.417949</td>\n    </tr>\n    <tr>\n      <th>2</th>\n      <td>chile</td>\n      <td>0.666667</td>\n      <td>0.280000</td>\n      <td>0.386667</td>\n    </tr>\n    <tr>\n      <th>4</th>\n      <td>france</td>\n      <td>0.888889</td>\n      <td>0.540984</td>\n      <td>0.347905</td>\n    </tr>\n    <tr>\n      <th>6</th>\n      <td>italy</td>\n      <td>0.833333</td>\n      <td>0.516129</td>\n      <td>0.317204</td>\n    </tr>\n    <tr>\n      <th>8</th>\n      <td>mexico</td>\n      <td>0.555556</td>\n      <td>0.260870</td>\n      <td>0.294686</td>\n    </tr>\n    <tr>\n      <th>14</th>\n      <td>sweden</td>\n      <td>0.666667</td>\n      <td>0.380952</td>\n      <td>0.285714</td>\n    </tr>\n    <tr>\n      <th>7</th>\n      <td>japan</td>\n      <td>0.500000</td>\n      <td>0.238095</td>\n      <td>0.261905</td>\n    </tr>\n    <tr>\n      <th>5</th>\n      <td>germany</td>\n      <td>0.857143</td>\n      <td>0.604396</td>\n      <td>0.252747</td>\n    </tr>\n    <tr>\n      <th>15</th>\n      <td>switzerland</td>\n      <td>0.500000</td>\n      <td>0.352941</td>\n      <td>0.147059</td>\n    </tr>\n    <tr>\n      <th>11</th>\n      <td>south africa</td>\n      <td>0.333333</td>\n      <td>0.200000</td>\n      <td>0.133333</td>\n    </tr>\n    <tr>\n      <th>10</th>\n      <td>russia</td>\n      <td>0.600000</td>\n      <td>0.472222</td>\n      <td>0.127778</td>\n    </tr>\n    <tr>\n      <th>0</th>\n      <td>argentina</td>\n      <td>0.714286</td>\n      <td>0.610390</td>\n      <td>0.103896</td>\n    </tr>\n    <tr>\n      <th>16</th>\n      <td>united states</td>\n      <td>0.250000</td>\n      <td>0.266667</td>\n      <td>-0.016667</td>\n    </tr>\n    <tr>\n      <th>1</th>\n      <td>brazil</td>\n      <td>0.615385</td>\n      <td>0.708333</td>\n      <td>-0.092949</td>\n    </tr>\n    <tr>\n      <th>13</th>\n      <td>spain</td>\n      <td>0.200000</td>\n      <td>0.543860</td>\n      <td>-0.343860</td>\n    </tr>\n    <tr>\n      <th>9</th>\n      <td>qatar</td>\n      <td>0.000000</td>\n      <td>NaN</td>\n      <td>NaN</td>\n    </tr>\n  </tbody>\n</table>\n</div>"
     },
     "execution_count": 34,
     "metadata": {},
     "output_type": "execute_result"
    }
   ],
   "source": [
    "# Create a new column win_percentage_diff\n",
    "host_vs_non_host['win_percentage_diff'] = host_vs_non_host['win_percentage'] - host_vs_non_host['non_host_win_percentage']\n",
    "\n",
    "# Sort the values by win_percentage_diff in ascending order\n",
    "host_vs_non_host.sort_values(by='win_percentage_diff', ascending=False, inplace=True)\n",
    "\n",
    "# Show the rows of the host vs non-host team win percentage\n",
    "host_vs_non_host"
   ]
  },
  {
   "cell_type": "markdown",
   "id": "24c5e6efe0e396d8",
   "metadata": {
    "collapsed": false
   },
   "source": [
    "Based on our analysis, we only see two countries that have better record in the world cup as non-host than as host. These countries are **Brazil** abd **Qatar**, interestingly **Qatar** is te only country that has no non-host data to report.  "
   ]
  },
  {
   "cell_type": "markdown",
   "id": "7bd1d69897eeb90d",
   "metadata": {
    "collapsed": false
   },
   "source": [
    "### Question 2. Who were the top goal scorers, individually and by team?\n",
    "\n",
    "Next, we explore the `goalscorers.csv` dataset to determine the top goal scorers in the FIFA World Cup tournament, we will use the information to gain insights about:\n",
    "\n",
    "- Top individual goal scorers\n",
    "- Top scoring teams\n",
    "- 1st half vs 2nd half team performances\n",
    "\n",
    "We already loaded the `goalscorers.csv` dataset earlier in the notebook. Now let's clean and inspect the dataset."
   ]
  },
  {
   "cell_type": "code",
   "execution_count": 35,
   "id": "d995f5b1cdd13e2b",
   "metadata": {
    "collapsed": false,
    "ExecuteTime": {
     "end_time": "2024-07-22T20:54:14.147229200Z",
     "start_time": "2024-07-22T20:54:13.427592200Z"
    }
   },
   "outputs": [
    {
     "data": {
      "text/plain": "         date  home_team away_team       team            scorer  minute  \\\n0  1916-07-02      chile   uruguay    uruguay   josé piendibene    44.0   \n1  1916-07-02      chile   uruguay    uruguay  isabelino gradín    55.0   \n2  1916-07-02      chile   uruguay    uruguay  isabelino gradín    70.0   \n3  1916-07-02      chile   uruguay    uruguay   josé piendibene    75.0   \n4  1916-07-06  argentina     chile  argentina     alberto ohaco     2.0   \n\n   own_goal  penalty  \n0     False    False  \n1     False    False  \n2     False    False  \n3     False    False  \n4     False    False  ",
      "text/html": "<div>\n<style scoped>\n    .dataframe tbody tr th:only-of-type {\n        vertical-align: middle;\n    }\n\n    .dataframe tbody tr th {\n        vertical-align: top;\n    }\n\n    .dataframe thead th {\n        text-align: right;\n    }\n</style>\n<table border=\"1\" class=\"dataframe\">\n  <thead>\n    <tr style=\"text-align: right;\">\n      <th></th>\n      <th>date</th>\n      <th>home_team</th>\n      <th>away_team</th>\n      <th>team</th>\n      <th>scorer</th>\n      <th>minute</th>\n      <th>own_goal</th>\n      <th>penalty</th>\n    </tr>\n  </thead>\n  <tbody>\n    <tr>\n      <th>0</th>\n      <td>1916-07-02</td>\n      <td>chile</td>\n      <td>uruguay</td>\n      <td>uruguay</td>\n      <td>josé piendibene</td>\n      <td>44.0</td>\n      <td>False</td>\n      <td>False</td>\n    </tr>\n    <tr>\n      <th>1</th>\n      <td>1916-07-02</td>\n      <td>chile</td>\n      <td>uruguay</td>\n      <td>uruguay</td>\n      <td>isabelino gradín</td>\n      <td>55.0</td>\n      <td>False</td>\n      <td>False</td>\n    </tr>\n    <tr>\n      <th>2</th>\n      <td>1916-07-02</td>\n      <td>chile</td>\n      <td>uruguay</td>\n      <td>uruguay</td>\n      <td>isabelino gradín</td>\n      <td>70.0</td>\n      <td>False</td>\n      <td>False</td>\n    </tr>\n    <tr>\n      <th>3</th>\n      <td>1916-07-02</td>\n      <td>chile</td>\n      <td>uruguay</td>\n      <td>uruguay</td>\n      <td>josé piendibene</td>\n      <td>75.0</td>\n      <td>False</td>\n      <td>False</td>\n    </tr>\n    <tr>\n      <th>4</th>\n      <td>1916-07-06</td>\n      <td>argentina</td>\n      <td>chile</td>\n      <td>argentina</td>\n      <td>alberto ohaco</td>\n      <td>2.0</td>\n      <td>False</td>\n      <td>False</td>\n    </tr>\n  </tbody>\n</table>\n</div>"
     },
     "execution_count": 35,
     "metadata": {},
     "output_type": "execute_result"
    }
   ],
   "source": [
    "# Clean the goalscorers.csv dataset\n",
    "goalscorers = clean_data(df2)\n",
    "\n",
    "# Show the first five (5) rows of the goalscorers dataset\n",
    "goalscorers.head()"
   ]
  },
  {
   "cell_type": "markdown",
   "id": "4586eaba4ee29823",
   "metadata": {
    "collapsed": false
   },
   "source": [
    "Initial observations: \n",
    "\n",
    "- Individual matches can be classified using the `date`, `home_team`, and `away_team` columns\n",
    "- Each minute of goal was recorded in the `minute` column\n",
    "- Goal and penalty information was recorded in the `scorer` and `penalty` columns, respectively.\n",
    "\n",
    "Now, let's perform a left merge to create a dataset containing the goal scorers and the FIFA World Cup matches."
   ]
  },
  {
   "cell_type": "code",
   "execution_count": 36,
   "id": "b6cfae236e9f00f4",
   "metadata": {
    "collapsed": false,
    "ExecuteTime": {
     "end_time": "2024-07-22T20:54:14.148237100Z",
     "start_time": "2024-07-22T20:54:13.543357300Z"
    }
   },
   "outputs": [
    {
     "data": {
      "text/plain": "         date home_team      away_team  home_score  away_score  country  \\\n0  1930-07-13   belgium  united states           0           3  uruguay   \n1  1930-07-13   belgium  united states           0           3  uruguay   \n2  1930-07-13   belgium  united states           0           3  uruguay   \n3  1930-07-13    france         mexico           4           1  uruguay   \n4  1930-07-13    france         mexico           4           1  uruguay   \n\n   neutral  total_goals  win_margin         winner  home_win  away_win  \\\n0     True            3          -3  united states     False      True   \n1     True            3          -3  united states     False      True   \n2     True            3          -3  united states     False      True   \n3     True            5           3         france      True     False   \n4     True            5           3         france      True     False   \n\n            team            scorer  minute own_goal penalty  \n0  united states       bart mcghee    23.0    False   False  \n1  united states        tom florie    45.0    False   False  \n2  united states    bert patenaude    69.0    False   False  \n3         france    lucien laurent    19.0    False   False  \n4         france  marcel langiller    40.0    False   False  ",
      "text/html": "<div>\n<style scoped>\n    .dataframe tbody tr th:only-of-type {\n        vertical-align: middle;\n    }\n\n    .dataframe tbody tr th {\n        vertical-align: top;\n    }\n\n    .dataframe thead th {\n        text-align: right;\n    }\n</style>\n<table border=\"1\" class=\"dataframe\">\n  <thead>\n    <tr style=\"text-align: right;\">\n      <th></th>\n      <th>date</th>\n      <th>home_team</th>\n      <th>away_team</th>\n      <th>home_score</th>\n      <th>away_score</th>\n      <th>country</th>\n      <th>neutral</th>\n      <th>total_goals</th>\n      <th>win_margin</th>\n      <th>winner</th>\n      <th>home_win</th>\n      <th>away_win</th>\n      <th>team</th>\n      <th>scorer</th>\n      <th>minute</th>\n      <th>own_goal</th>\n      <th>penalty</th>\n    </tr>\n  </thead>\n  <tbody>\n    <tr>\n      <th>0</th>\n      <td>1930-07-13</td>\n      <td>belgium</td>\n      <td>united states</td>\n      <td>0</td>\n      <td>3</td>\n      <td>uruguay</td>\n      <td>True</td>\n      <td>3</td>\n      <td>-3</td>\n      <td>united states</td>\n      <td>False</td>\n      <td>True</td>\n      <td>united states</td>\n      <td>bart mcghee</td>\n      <td>23.0</td>\n      <td>False</td>\n      <td>False</td>\n    </tr>\n    <tr>\n      <th>1</th>\n      <td>1930-07-13</td>\n      <td>belgium</td>\n      <td>united states</td>\n      <td>0</td>\n      <td>3</td>\n      <td>uruguay</td>\n      <td>True</td>\n      <td>3</td>\n      <td>-3</td>\n      <td>united states</td>\n      <td>False</td>\n      <td>True</td>\n      <td>united states</td>\n      <td>tom florie</td>\n      <td>45.0</td>\n      <td>False</td>\n      <td>False</td>\n    </tr>\n    <tr>\n      <th>2</th>\n      <td>1930-07-13</td>\n      <td>belgium</td>\n      <td>united states</td>\n      <td>0</td>\n      <td>3</td>\n      <td>uruguay</td>\n      <td>True</td>\n      <td>3</td>\n      <td>-3</td>\n      <td>united states</td>\n      <td>False</td>\n      <td>True</td>\n      <td>united states</td>\n      <td>bert patenaude</td>\n      <td>69.0</td>\n      <td>False</td>\n      <td>False</td>\n    </tr>\n    <tr>\n      <th>3</th>\n      <td>1930-07-13</td>\n      <td>france</td>\n      <td>mexico</td>\n      <td>4</td>\n      <td>1</td>\n      <td>uruguay</td>\n      <td>True</td>\n      <td>5</td>\n      <td>3</td>\n      <td>france</td>\n      <td>True</td>\n      <td>False</td>\n      <td>france</td>\n      <td>lucien laurent</td>\n      <td>19.0</td>\n      <td>False</td>\n      <td>False</td>\n    </tr>\n    <tr>\n      <th>4</th>\n      <td>1930-07-13</td>\n      <td>france</td>\n      <td>mexico</td>\n      <td>4</td>\n      <td>1</td>\n      <td>uruguay</td>\n      <td>True</td>\n      <td>5</td>\n      <td>3</td>\n      <td>france</td>\n      <td>True</td>\n      <td>False</td>\n      <td>france</td>\n      <td>marcel langiller</td>\n      <td>40.0</td>\n      <td>False</td>\n      <td>False</td>\n    </tr>\n  </tbody>\n</table>\n</div>"
     },
     "execution_count": 36,
     "metadata": {},
     "output_type": "execute_result"
    }
   ],
   "source": [
    "# Merge the goalscorers and FIFA World Cup datasets\n",
    "fifa_wc_goalscorers = pd.merge(fifa_wc, goalscorers, on=['date', 'home_team', 'away_team'], how='left')\n",
    "\n",
    "# Show the first five (5) rows of the FIFA World Cup goalscorers dataset\n",
    "fifa_wc_goalscorers.head()"
   ]
  },
  {
   "cell_type": "markdown",
   "id": "376a61788a243c2a",
   "metadata": {
    "collapsed": false
   },
   "source": [
    "Let's explore the data by calculating which teams scored the most goals off penalties."
   ]
  },
  {
   "cell_type": "code",
   "execution_count": 37,
   "id": "4b338f9a42e08890",
   "metadata": {
    "collapsed": false,
    "ExecuteTime": {
     "end_time": "2024-07-22T20:54:14.149245Z",
     "start_time": "2024-07-22T20:54:13.599997900Z"
    }
   },
   "outputs": [
    {
     "data": {
      "text/plain": "          team total_penalty_goals\n0        spain                  16\n1       france                  15\n2    argentina                  12\n3      germany                  12\n4      england                  12\n5  netherlands                  10\n6       brazil                  10\n7       mexico                  10\n8     portugal                   9\n9        italy                   8",
      "text/html": "<div>\n<style scoped>\n    .dataframe tbody tr th:only-of-type {\n        vertical-align: middle;\n    }\n\n    .dataframe tbody tr th {\n        vertical-align: top;\n    }\n\n    .dataframe thead th {\n        text-align: right;\n    }\n</style>\n<table border=\"1\" class=\"dataframe\">\n  <thead>\n    <tr style=\"text-align: right;\">\n      <th></th>\n      <th>team</th>\n      <th>total_penalty_goals</th>\n    </tr>\n  </thead>\n  <tbody>\n    <tr>\n      <th>0</th>\n      <td>spain</td>\n      <td>16</td>\n    </tr>\n    <tr>\n      <th>1</th>\n      <td>france</td>\n      <td>15</td>\n    </tr>\n    <tr>\n      <th>2</th>\n      <td>argentina</td>\n      <td>12</td>\n    </tr>\n    <tr>\n      <th>3</th>\n      <td>germany</td>\n      <td>12</td>\n    </tr>\n    <tr>\n      <th>4</th>\n      <td>england</td>\n      <td>12</td>\n    </tr>\n    <tr>\n      <th>5</th>\n      <td>netherlands</td>\n      <td>10</td>\n    </tr>\n    <tr>\n      <th>6</th>\n      <td>brazil</td>\n      <td>10</td>\n    </tr>\n    <tr>\n      <th>7</th>\n      <td>mexico</td>\n      <td>10</td>\n    </tr>\n    <tr>\n      <th>8</th>\n      <td>portugal</td>\n      <td>9</td>\n    </tr>\n    <tr>\n      <th>9</th>\n      <td>italy</td>\n      <td>8</td>\n    </tr>\n  </tbody>\n</table>\n</div>"
     },
     "execution_count": 37,
     "metadata": {},
     "output_type": "execute_result"
    }
   ],
   "source": [
    "# Calculate the number of goals scored off penalties by team\n",
    "penalty_goals = fifa_wc_goalscorers.groupby('team')['penalty'].sum()\n",
    "penalty_goals = penalty_goals.sort_values(ascending=False).reset_index()\n",
    "penalty_goals.columns = ['team', 'total_penalty_goals']\n",
    "\n",
    "# Show the top 10 teams that scored the most goals off penalties\n",
    "penalty_goals.head(10)"
   ]
  },
  {
   "cell_type": "markdown",
   "id": "4b5b57337566d752",
   "metadata": {
    "collapsed": false
   },
   "source": [
    "Now, let's the top 10 teams with the most goals scored into their own goal in the FIFA World Cup tournament."
   ]
  },
  {
   "cell_type": "code",
   "execution_count": 38,
   "id": "a50eb1bf331d1fb1",
   "metadata": {
    "collapsed": false,
    "ExecuteTime": {
     "end_time": "2024-07-22T20:54:14.149245Z",
     "start_time": "2024-07-22T20:54:13.613251300Z"
    }
   },
   "outputs": [
    {
     "data": {
      "text/plain": "            team total_total_goals\n0         france                 6\n1        germany                 4\n2          italy                 4\n3       portugal                 3\n4  united states                 3\n5        belgium                 2\n6        austria                 2\n7         russia                 2\n8          spain                 2\n9       paraguay                 2",
      "text/html": "<div>\n<style scoped>\n    .dataframe tbody tr th:only-of-type {\n        vertical-align: middle;\n    }\n\n    .dataframe tbody tr th {\n        vertical-align: top;\n    }\n\n    .dataframe thead th {\n        text-align: right;\n    }\n</style>\n<table border=\"1\" class=\"dataframe\">\n  <thead>\n    <tr style=\"text-align: right;\">\n      <th></th>\n      <th>team</th>\n      <th>total_total_goals</th>\n    </tr>\n  </thead>\n  <tbody>\n    <tr>\n      <th>0</th>\n      <td>france</td>\n      <td>6</td>\n    </tr>\n    <tr>\n      <th>1</th>\n      <td>germany</td>\n      <td>4</td>\n    </tr>\n    <tr>\n      <th>2</th>\n      <td>italy</td>\n      <td>4</td>\n    </tr>\n    <tr>\n      <th>3</th>\n      <td>portugal</td>\n      <td>3</td>\n    </tr>\n    <tr>\n      <th>4</th>\n      <td>united states</td>\n      <td>3</td>\n    </tr>\n    <tr>\n      <th>5</th>\n      <td>belgium</td>\n      <td>2</td>\n    </tr>\n    <tr>\n      <th>6</th>\n      <td>austria</td>\n      <td>2</td>\n    </tr>\n    <tr>\n      <th>7</th>\n      <td>russia</td>\n      <td>2</td>\n    </tr>\n    <tr>\n      <th>8</th>\n      <td>spain</td>\n      <td>2</td>\n    </tr>\n    <tr>\n      <th>9</th>\n      <td>paraguay</td>\n      <td>2</td>\n    </tr>\n  </tbody>\n</table>\n</div>"
     },
     "execution_count": 38,
     "metadata": {},
     "output_type": "execute_result"
    }
   ],
   "source": [
    "# Calculate the number of goals scored by team\n",
    "total_goals = fifa_wc_goalscorers.groupby('team')['own_goal'].sum()\n",
    "total_goals = total_goals.sort_values(ascending=False).reset_index()\n",
    "total_goals.columns = ['team', 'total_total_goals']\n",
    "\n",
    "# Show the top 10 teams that scored the most goals\n",
    "total_goals.head(10)"
   ]
  },
  {
   "cell_type": "markdown",
   "id": "b2e05613aaaf8631",
   "metadata": {
    "collapsed": false
   },
   "source": [
    "Let's calculate the all-time leading goal scorers in the FIFA World Cup tournament."
   ]
  },
  {
   "cell_type": "code",
   "execution_count": 39,
   "id": "95ede9c5d3b3d153",
   "metadata": {
    "collapsed": false,
    "ExecuteTime": {
     "end_time": "2024-07-22T20:54:14.172587Z",
     "start_time": "2024-07-22T20:54:13.622827600Z"
    }
   },
   "outputs": [
    {
     "data": {
      "text/plain": "             scorer  total_goals\n0    miroslav klose           16\n1           ronaldo           15\n2       gerd müller           14\n3      lionel messi           13\n4     just fontaine           13\n5     kylian mbappé           12\n6              pelé           12\n7  jürgen klinsmann           11\n8     sándor kocsis           11\n9  teófilo cubillas           10",
      "text/html": "<div>\n<style scoped>\n    .dataframe tbody tr th:only-of-type {\n        vertical-align: middle;\n    }\n\n    .dataframe tbody tr th {\n        vertical-align: top;\n    }\n\n    .dataframe thead th {\n        text-align: right;\n    }\n</style>\n<table border=\"1\" class=\"dataframe\">\n  <thead>\n    <tr style=\"text-align: right;\">\n      <th></th>\n      <th>scorer</th>\n      <th>total_goals</th>\n    </tr>\n  </thead>\n  <tbody>\n    <tr>\n      <th>0</th>\n      <td>miroslav klose</td>\n      <td>16</td>\n    </tr>\n    <tr>\n      <th>1</th>\n      <td>ronaldo</td>\n      <td>15</td>\n    </tr>\n    <tr>\n      <th>2</th>\n      <td>gerd müller</td>\n      <td>14</td>\n    </tr>\n    <tr>\n      <th>3</th>\n      <td>lionel messi</td>\n      <td>13</td>\n    </tr>\n    <tr>\n      <th>4</th>\n      <td>just fontaine</td>\n      <td>13</td>\n    </tr>\n    <tr>\n      <th>5</th>\n      <td>kylian mbappé</td>\n      <td>12</td>\n    </tr>\n    <tr>\n      <th>6</th>\n      <td>pelé</td>\n      <td>12</td>\n    </tr>\n    <tr>\n      <th>7</th>\n      <td>jürgen klinsmann</td>\n      <td>11</td>\n    </tr>\n    <tr>\n      <th>8</th>\n      <td>sándor kocsis</td>\n      <td>11</td>\n    </tr>\n    <tr>\n      <th>9</th>\n      <td>teófilo cubillas</td>\n      <td>10</td>\n    </tr>\n  </tbody>\n</table>\n</div>"
     },
     "execution_count": 39,
     "metadata": {},
     "output_type": "execute_result"
    }
   ],
   "source": [
    "# Calculate the all-time leading goal scorers\n",
    "leading_goal_scorers = fifa_wc_goalscorers.groupby('scorer')['date'].count()\n",
    "leading_goal_scorers = leading_goal_scorers.sort_values(ascending=False).reset_index()\n",
    "leading_goal_scorers.columns = ['scorer', 'total_goals']\n",
    "\n",
    "# Show the top 10 all-time leading goal scorers\n",
    "leading_goal_scorers.head(10)"
   ]
  },
  {
   "cell_type": "markdown",
   "id": "4c2cd5a662124d1c",
   "metadata": {
    "collapsed": false
   },
   "source": [
    "Based on the analysis, **Miroslav Klose** is the all-time leading goal scorer in the FIFA World Cup tournament with **16** goals. We also saw some very famous retired players such as **Klose** and **Ronaldo** and current active players such as **Mbappe** and **Messi**.\n",
    "\n",
    "Then now, let's calculate the top individual goal scorers for each team.\n",
    "\n",
    "We need to create a function that counts the number of goals scored by individual players for each team and extract the top scorer. "
   ]
  },
  {
   "cell_type": "code",
   "execution_count": 40,
   "id": "de6fdd14636245e9",
   "metadata": {
    "collapsed": false,
    "ExecuteTime": {
     "end_time": "2024-07-22T20:54:14.202671400Z",
     "start_time": "2024-07-22T20:54:13.634762100Z"
    }
   },
   "outputs": [
    {
     "data": {
      "text/plain": "                    team             scorer\n0                algeria      salah assad,2\n1                 angola     flávio amado,1\n2              argentina    lionel messi,13\n3              australia       tim cahill,5\n4                austria     erich probst,6\n..                   ...                ...\n73  united arab emirates    khalid ismaïl,1\n74         united states   landon donovan,5\n75               uruguay     óscar míguez,8\n76                 wales   ivor allchurch,2\n77            yugoslavia  dražan jerković,4\n\n[78 rows x 2 columns]",
      "text/html": "<div>\n<style scoped>\n    .dataframe tbody tr th:only-of-type {\n        vertical-align: middle;\n    }\n\n    .dataframe tbody tr th {\n        vertical-align: top;\n    }\n\n    .dataframe thead th {\n        text-align: right;\n    }\n</style>\n<table border=\"1\" class=\"dataframe\">\n  <thead>\n    <tr style=\"text-align: right;\">\n      <th></th>\n      <th>team</th>\n      <th>scorer</th>\n    </tr>\n  </thead>\n  <tbody>\n    <tr>\n      <th>0</th>\n      <td>algeria</td>\n      <td>salah assad,2</td>\n    </tr>\n    <tr>\n      <th>1</th>\n      <td>angola</td>\n      <td>flávio amado,1</td>\n    </tr>\n    <tr>\n      <th>2</th>\n      <td>argentina</td>\n      <td>lionel messi,13</td>\n    </tr>\n    <tr>\n      <th>3</th>\n      <td>australia</td>\n      <td>tim cahill,5</td>\n    </tr>\n    <tr>\n      <th>4</th>\n      <td>austria</td>\n      <td>erich probst,6</td>\n    </tr>\n    <tr>\n      <th>...</th>\n      <td>...</td>\n      <td>...</td>\n    </tr>\n    <tr>\n      <th>73</th>\n      <td>united arab emirates</td>\n      <td>khalid ismaïl,1</td>\n    </tr>\n    <tr>\n      <th>74</th>\n      <td>united states</td>\n      <td>landon donovan,5</td>\n    </tr>\n    <tr>\n      <th>75</th>\n      <td>uruguay</td>\n      <td>óscar míguez,8</td>\n    </tr>\n    <tr>\n      <th>76</th>\n      <td>wales</td>\n      <td>ivor allchurch,2</td>\n    </tr>\n    <tr>\n      <th>77</th>\n      <td>yugoslavia</td>\n      <td>dražan jerković,4</td>\n    </tr>\n  </tbody>\n</table>\n<p>78 rows × 2 columns</p>\n</div>"
     },
     "execution_count": 40,
     "metadata": {},
     "output_type": "execute_result"
    }
   ],
   "source": [
    "# Calculate the top individual goal scorers for each team\n",
    "def get_top_scorer(column):\n",
    "    value_counts = column.value_counts()\n",
    "    top_scorer = value_counts.idxmax()\n",
    "    goals_scored = value_counts.max()\n",
    "    return str(top_scorer) + ',' + str(goals_scored)\n",
    "\n",
    "top_scorers = fifa_wc_goalscorers.groupby('team')['scorer'].agg(get_top_scorer).reset_index()\n",
    "\n",
    "# Show the top individual goal scorers for each team\n",
    "top_scorers"
   ]
  },
  {
   "cell_type": "markdown",
   "id": "94d3ce2e7b653a69",
   "metadata": {
    "collapsed": false
   },
   "source": [
    "Let's split the scorer column, `top_scorer` and `goals` into two separate columns. "
   ]
  },
  {
   "cell_type": "code",
   "execution_count": 41,
   "id": "75dccaf7b95320de",
   "metadata": {
    "collapsed": false,
    "ExecuteTime": {
     "end_time": "2024-07-22T20:54:14.204673200Z",
     "start_time": "2024-07-22T20:54:13.674542100Z"
    }
   },
   "outputs": [
    {
     "data": {
      "text/plain": "                    team       top_scorer goals\n0                algeria      salah assad     2\n1                 angola     flávio amado     1\n2              argentina     lionel messi    13\n3              australia       tim cahill     5\n4                austria     erich probst     6\n..                   ...              ...   ...\n73  united arab emirates    khalid ismaïl     1\n74         united states   landon donovan     5\n75               uruguay     óscar míguez     8\n76                 wales   ivor allchurch     2\n77            yugoslavia  dražan jerković     4\n\n[78 rows x 3 columns]",
      "text/html": "<div>\n<style scoped>\n    .dataframe tbody tr th:only-of-type {\n        vertical-align: middle;\n    }\n\n    .dataframe tbody tr th {\n        vertical-align: top;\n    }\n\n    .dataframe thead th {\n        text-align: right;\n    }\n</style>\n<table border=\"1\" class=\"dataframe\">\n  <thead>\n    <tr style=\"text-align: right;\">\n      <th></th>\n      <th>team</th>\n      <th>top_scorer</th>\n      <th>goals</th>\n    </tr>\n  </thead>\n  <tbody>\n    <tr>\n      <th>0</th>\n      <td>algeria</td>\n      <td>salah assad</td>\n      <td>2</td>\n    </tr>\n    <tr>\n      <th>1</th>\n      <td>angola</td>\n      <td>flávio amado</td>\n      <td>1</td>\n    </tr>\n    <tr>\n      <th>2</th>\n      <td>argentina</td>\n      <td>lionel messi</td>\n      <td>13</td>\n    </tr>\n    <tr>\n      <th>3</th>\n      <td>australia</td>\n      <td>tim cahill</td>\n      <td>5</td>\n    </tr>\n    <tr>\n      <th>4</th>\n      <td>austria</td>\n      <td>erich probst</td>\n      <td>6</td>\n    </tr>\n    <tr>\n      <th>...</th>\n      <td>...</td>\n      <td>...</td>\n      <td>...</td>\n    </tr>\n    <tr>\n      <th>73</th>\n      <td>united arab emirates</td>\n      <td>khalid ismaïl</td>\n      <td>1</td>\n    </tr>\n    <tr>\n      <th>74</th>\n      <td>united states</td>\n      <td>landon donovan</td>\n      <td>5</td>\n    </tr>\n    <tr>\n      <th>75</th>\n      <td>uruguay</td>\n      <td>óscar míguez</td>\n      <td>8</td>\n    </tr>\n    <tr>\n      <th>76</th>\n      <td>wales</td>\n      <td>ivor allchurch</td>\n      <td>2</td>\n    </tr>\n    <tr>\n      <th>77</th>\n      <td>yugoslavia</td>\n      <td>dražan jerković</td>\n      <td>4</td>\n    </tr>\n  </tbody>\n</table>\n<p>78 rows × 3 columns</p>\n</div>"
     },
     "execution_count": 41,
     "metadata": {},
     "output_type": "execute_result"
    }
   ],
   "source": [
    "# Perform the split operation once and assign the results to two new columns\n",
    "top_scorers[['top_scorer', 'goals']] = top_scorers['scorer'].str.split(',', expand=True)\n",
    "\n",
    "# Drop the 'scorer' column\n",
    "top_scorers.drop(columns=['scorer'], inplace=True)\n",
    "\n",
    "# Show the top individual goal scorers for each team\n",
    "top_scorers"
   ]
  },
  {
   "cell_type": "markdown",
   "id": "5c87cfd49c81c04a",
   "metadata": {
    "collapsed": false
   },
   "source": [
    "Based on the analysis, **Ronaldo** from Brazil team is the all-time leading scorer in FIFA World Cup."
   ]
  },
  {
   "cell_type": "markdown",
   "id": "d8667c746dc67dc0",
   "metadata": {
    "collapsed": false
   },
   "source": [
    "### Question 3. Are the teams who perform better in the first (1st) or second (2nd) half of the match more likely to win the match?\n",
    "\n",
    "We might be interested in comparing each team's performance in the 1st and 2nd half of their matches. This analysis can help us determine if teams who perform better in the 1st or 2nd half of the match are more likely to win the match.\n",
    "\n",
    "First let's see the summary statistics of the `minute` column."
   ]
  },
  {
   "cell_type": "code",
   "execution_count": 42,
   "id": "a514831c783343b2",
   "metadata": {
    "collapsed": false,
    "ExecuteTime": {
     "end_time": "2024-07-22T20:54:14.264426700Z",
     "start_time": "2024-07-22T20:54:13.687614Z"
    }
   },
   "outputs": [
    {
     "data": {
      "text/plain": "count    2720.000000\nmean       51.581250\nstd        27.535554\nmin         1.000000\n25%        28.000000\n50%        53.000000\n75%        75.000000\nmax       120.000000\nName: minute, dtype: float64"
     },
     "execution_count": 42,
     "metadata": {},
     "output_type": "execute_result"
    }
   ],
   "source": [
    "# Display the summary statistics of the 'minute' column\n",
    "fifa_wc_goalscorers['minute'].describe()"
   ]
  },
  {
   "cell_type": "markdown",
   "id": "4cc1e7a9de123382",
   "metadata": {
    "collapsed": false
   },
   "source": [
    "Now, let's classify the goals scored in the 1st and 2nd half of the match. Remember that the 1st half (0-45 minutes) and the 2nd half (45-90 minutes) of the match.\n",
    "\n",
    "NOTE: It is important to consider that it is not a perfect measure since extra-time maybe added at the end of each half due to breaks, player injuries, or other reasons."
   ]
  },
  {
   "cell_type": "code",
   "execution_count": 43,
   "id": "49469ab06c2eacd0",
   "metadata": {
    "collapsed": false,
    "ExecuteTime": {
     "end_time": "2024-07-22T20:54:14.265407100Z",
     "start_time": "2024-07-22T20:54:13.698507400Z"
    }
   },
   "outputs": [],
   "source": [
    "# Classify the goals scored in the 1st and 2nd half of the match\n",
    "def classify_goal_time(row):\n",
    "    if row['minute'] <= 45.0:\n",
    "        output = '1st half'\n",
    "    elif row['minute'] <= 90.0:\n",
    "        output = '2nd half'\n",
    "    else:\n",
    "        output = 'Overtime'\n",
    "        \n",
    "    return output"
   ]
  },
  {
   "cell_type": "code",
   "execution_count": 44,
   "id": "6607cbf9807449ca",
   "metadata": {
    "collapsed": false,
    "ExecuteTime": {
     "end_time": "2024-07-22T20:54:14.355278100Z",
     "start_time": "2024-07-22T20:54:13.703883500Z"
    }
   },
   "outputs": [
    {
     "data": {
      "text/plain": "         date home_team      away_team  home_score  away_score  country  \\\n0  1930-07-13   belgium  united states           0           3  uruguay   \n1  1930-07-13   belgium  united states           0           3  uruguay   \n2  1930-07-13   belgium  united states           0           3  uruguay   \n3  1930-07-13    france         mexico           4           1  uruguay   \n4  1930-07-13    france         mexico           4           1  uruguay   \n\n   neutral  total_goals  win_margin         winner  home_win  away_win  \\\n0     True            3          -3  united states     False      True   \n1     True            3          -3  united states     False      True   \n2     True            3          -3  united states     False      True   \n3     True            5           3         france      True     False   \n4     True            5           3         france      True     False   \n\n            team            scorer  minute own_goal penalty goal_time  \n0  united states       bart mcghee    23.0    False   False  1st half  \n1  united states        tom florie    45.0    False   False  1st half  \n2  united states    bert patenaude    69.0    False   False  2nd half  \n3         france    lucien laurent    19.0    False   False  1st half  \n4         france  marcel langiller    40.0    False   False  1st half  ",
      "text/html": "<div>\n<style scoped>\n    .dataframe tbody tr th:only-of-type {\n        vertical-align: middle;\n    }\n\n    .dataframe tbody tr th {\n        vertical-align: top;\n    }\n\n    .dataframe thead th {\n        text-align: right;\n    }\n</style>\n<table border=\"1\" class=\"dataframe\">\n  <thead>\n    <tr style=\"text-align: right;\">\n      <th></th>\n      <th>date</th>\n      <th>home_team</th>\n      <th>away_team</th>\n      <th>home_score</th>\n      <th>away_score</th>\n      <th>country</th>\n      <th>neutral</th>\n      <th>total_goals</th>\n      <th>win_margin</th>\n      <th>winner</th>\n      <th>home_win</th>\n      <th>away_win</th>\n      <th>team</th>\n      <th>scorer</th>\n      <th>minute</th>\n      <th>own_goal</th>\n      <th>penalty</th>\n      <th>goal_time</th>\n    </tr>\n  </thead>\n  <tbody>\n    <tr>\n      <th>0</th>\n      <td>1930-07-13</td>\n      <td>belgium</td>\n      <td>united states</td>\n      <td>0</td>\n      <td>3</td>\n      <td>uruguay</td>\n      <td>True</td>\n      <td>3</td>\n      <td>-3</td>\n      <td>united states</td>\n      <td>False</td>\n      <td>True</td>\n      <td>united states</td>\n      <td>bart mcghee</td>\n      <td>23.0</td>\n      <td>False</td>\n      <td>False</td>\n      <td>1st half</td>\n    </tr>\n    <tr>\n      <th>1</th>\n      <td>1930-07-13</td>\n      <td>belgium</td>\n      <td>united states</td>\n      <td>0</td>\n      <td>3</td>\n      <td>uruguay</td>\n      <td>True</td>\n      <td>3</td>\n      <td>-3</td>\n      <td>united states</td>\n      <td>False</td>\n      <td>True</td>\n      <td>united states</td>\n      <td>tom florie</td>\n      <td>45.0</td>\n      <td>False</td>\n      <td>False</td>\n      <td>1st half</td>\n    </tr>\n    <tr>\n      <th>2</th>\n      <td>1930-07-13</td>\n      <td>belgium</td>\n      <td>united states</td>\n      <td>0</td>\n      <td>3</td>\n      <td>uruguay</td>\n      <td>True</td>\n      <td>3</td>\n      <td>-3</td>\n      <td>united states</td>\n      <td>False</td>\n      <td>True</td>\n      <td>united states</td>\n      <td>bert patenaude</td>\n      <td>69.0</td>\n      <td>False</td>\n      <td>False</td>\n      <td>2nd half</td>\n    </tr>\n    <tr>\n      <th>3</th>\n      <td>1930-07-13</td>\n      <td>france</td>\n      <td>mexico</td>\n      <td>4</td>\n      <td>1</td>\n      <td>uruguay</td>\n      <td>True</td>\n      <td>5</td>\n      <td>3</td>\n      <td>france</td>\n      <td>True</td>\n      <td>False</td>\n      <td>france</td>\n      <td>lucien laurent</td>\n      <td>19.0</td>\n      <td>False</td>\n      <td>False</td>\n      <td>1st half</td>\n    </tr>\n    <tr>\n      <th>4</th>\n      <td>1930-07-13</td>\n      <td>france</td>\n      <td>mexico</td>\n      <td>4</td>\n      <td>1</td>\n      <td>uruguay</td>\n      <td>True</td>\n      <td>5</td>\n      <td>3</td>\n      <td>france</td>\n      <td>True</td>\n      <td>False</td>\n      <td>france</td>\n      <td>marcel langiller</td>\n      <td>40.0</td>\n      <td>False</td>\n      <td>False</td>\n      <td>1st half</td>\n    </tr>\n  </tbody>\n</table>\n</div>"
     },
     "execution_count": 44,
     "metadata": {},
     "output_type": "execute_result"
    }
   ],
   "source": [
    "# Apply the classify_goal_time function to the FIFA World Cup goalscorers dataset\n",
    "fifa_wc_goalscorers['goal_time'] = fifa_wc_goalscorers.apply(classify_goal_time, axis=1)\n",
    "\n",
    "# Show the first five (5) rows of the FIFA World Cup goalscorers dataset\n",
    "fifa_wc_goalscorers.head()"
   ]
  },
  {
   "cell_type": "markdown",
   "id": "1280afd820389fb7",
   "metadata": {
    "collapsed": false
   },
   "source": [
    "Now, that we already classified each goal into `1st half` and `2nd half`, let's calculate the number of goals scored in the 1st and 2nd half of the match."
   ]
  },
  {
   "cell_type": "code",
   "execution_count": 45,
   "id": "33c5e9367d11d6",
   "metadata": {
    "collapsed": false,
    "ExecuteTime": {
     "end_time": "2024-07-22T20:54:14.589910500Z",
     "start_time": "2024-07-22T20:54:13.736456300Z"
    }
   },
   "outputs": [
    {
     "data": {
      "text/plain": "goal_time  1st half  2nd half  Overtime\nteam                                   \nalgeria         7.0       5.0       1.0\nangola          NaN       1.0       NaN\nargentina      69.0      78.0       5.0\naustralia       7.0      10.0       NaN\naustria        18.0      23.0       2.0",
      "text/html": "<div>\n<style scoped>\n    .dataframe tbody tr th:only-of-type {\n        vertical-align: middle;\n    }\n\n    .dataframe tbody tr th {\n        vertical-align: top;\n    }\n\n    .dataframe thead th {\n        text-align: right;\n    }\n</style>\n<table border=\"1\" class=\"dataframe\">\n  <thead>\n    <tr style=\"text-align: right;\">\n      <th>goal_time</th>\n      <th>1st half</th>\n      <th>2nd half</th>\n      <th>Overtime</th>\n    </tr>\n    <tr>\n      <th>team</th>\n      <th></th>\n      <th></th>\n      <th></th>\n    </tr>\n  </thead>\n  <tbody>\n    <tr>\n      <th>algeria</th>\n      <td>7.0</td>\n      <td>5.0</td>\n      <td>1.0</td>\n    </tr>\n    <tr>\n      <th>angola</th>\n      <td>NaN</td>\n      <td>1.0</td>\n      <td>NaN</td>\n    </tr>\n    <tr>\n      <th>argentina</th>\n      <td>69.0</td>\n      <td>78.0</td>\n      <td>5.0</td>\n    </tr>\n    <tr>\n      <th>australia</th>\n      <td>7.0</td>\n      <td>10.0</td>\n      <td>NaN</td>\n    </tr>\n    <tr>\n      <th>austria</th>\n      <td>18.0</td>\n      <td>23.0</td>\n      <td>2.0</td>\n    </tr>\n  </tbody>\n</table>\n</div>"
     },
     "execution_count": 45,
     "metadata": {},
     "output_type": "execute_result"
    }
   ],
   "source": [
    "# Calculate the number of goals scored in the 1st and 2nd half of the match by team\n",
    "team_goal_time = pd.pivot_table(fifa_wc_goalscorers, values='scorer', index='team', columns='goal_time', aggfunc='count')\n",
    "\n",
    "# Show the first five (5) rows of the team goal time\n",
    "team_goal_time.head()"
   ]
  },
  {
   "cell_type": "markdown",
   "id": "432cf403e89d123f",
   "metadata": {
    "collapsed": false
   },
   "source": [
    "Notice that some teams may not have scored any goals in the 1st or 2nd half of the match. Let's fill the missing values with `NaN`.\n",
    "\n",
    "Now, let's convert the counts to percentages to compare the 1st, 2nd half, and overtime performances of each team. We need to divide the number of goals in each half, respectively, by the total number of goals scored by each team."
   ]
  },
  {
   "cell_type": "code",
   "execution_count": 46,
   "id": "c4bb61e93ab5102a",
   "metadata": {
    "collapsed": false,
    "ExecuteTime": {
     "end_time": "2024-07-22T20:54:14.592909500Z",
     "start_time": "2024-07-22T20:54:13.759371600Z"
    }
   },
   "outputs": [
    {
     "data": {
      "text/plain": "goal_time  1st half  2nd half  Overtime  total_goals  1st half %  2nd half %  \\\nteam                                                                           \nalgeria         7.0       5.0       1.0         13.0    0.538462    0.384615   \nangola          NaN       1.0       NaN          1.0         NaN    1.000000   \nargentina      69.0      78.0       5.0        152.0    0.453947    0.513158   \naustralia       7.0      10.0       NaN         17.0    0.411765    0.588235   \naustria        18.0      23.0       2.0         43.0    0.418605    0.534884   \n\ngoal_time  Overtime %  \nteam                   \nalgeria      0.076923  \nangola            NaN  \nargentina    0.032895  \naustralia         NaN  \naustria      0.046512  ",
      "text/html": "<div>\n<style scoped>\n    .dataframe tbody tr th:only-of-type {\n        vertical-align: middle;\n    }\n\n    .dataframe tbody tr th {\n        vertical-align: top;\n    }\n\n    .dataframe thead th {\n        text-align: right;\n    }\n</style>\n<table border=\"1\" class=\"dataframe\">\n  <thead>\n    <tr style=\"text-align: right;\">\n      <th>goal_time</th>\n      <th>1st half</th>\n      <th>2nd half</th>\n      <th>Overtime</th>\n      <th>total_goals</th>\n      <th>1st half %</th>\n      <th>2nd half %</th>\n      <th>Overtime %</th>\n    </tr>\n    <tr>\n      <th>team</th>\n      <th></th>\n      <th></th>\n      <th></th>\n      <th></th>\n      <th></th>\n      <th></th>\n      <th></th>\n    </tr>\n  </thead>\n  <tbody>\n    <tr>\n      <th>algeria</th>\n      <td>7.0</td>\n      <td>5.0</td>\n      <td>1.0</td>\n      <td>13.0</td>\n      <td>0.538462</td>\n      <td>0.384615</td>\n      <td>0.076923</td>\n    </tr>\n    <tr>\n      <th>angola</th>\n      <td>NaN</td>\n      <td>1.0</td>\n      <td>NaN</td>\n      <td>1.0</td>\n      <td>NaN</td>\n      <td>1.000000</td>\n      <td>NaN</td>\n    </tr>\n    <tr>\n      <th>argentina</th>\n      <td>69.0</td>\n      <td>78.0</td>\n      <td>5.0</td>\n      <td>152.0</td>\n      <td>0.453947</td>\n      <td>0.513158</td>\n      <td>0.032895</td>\n    </tr>\n    <tr>\n      <th>australia</th>\n      <td>7.0</td>\n      <td>10.0</td>\n      <td>NaN</td>\n      <td>17.0</td>\n      <td>0.411765</td>\n      <td>0.588235</td>\n      <td>NaN</td>\n    </tr>\n    <tr>\n      <th>austria</th>\n      <td>18.0</td>\n      <td>23.0</td>\n      <td>2.0</td>\n      <td>43.0</td>\n      <td>0.418605</td>\n      <td>0.534884</td>\n      <td>0.046512</td>\n    </tr>\n  </tbody>\n</table>\n</div>"
     },
     "execution_count": 46,
     "metadata": {},
     "output_type": "execute_result"
    }
   ],
   "source": [
    "# Convert the counts to percentages\n",
    "team_goal_time['total_goals'] = team_goal_time[['1st half', '2nd half', 'Overtime']].sum(axis=1)\n",
    "\n",
    "team_goal_time['1st half %'] = team_goal_time['1st half'] / team_goal_time['total_goals']\n",
    "team_goal_time['2nd half %'] = team_goal_time['2nd half'] / team_goal_time['total_goals']\n",
    "team_goal_time['Overtime %'] = team_goal_time['Overtime'] / team_goal_time['total_goals']\n",
    "\n",
    "# Show the first five (5) rows of the team goal time\n",
    "team_goal_time.head()"
   ]
  },
  {
   "cell_type": "markdown",
   "id": "219b64415a6fa853",
   "metadata": {
    "collapsed": false
   },
   "source": [
    "Let's see which teams scored the most goals in the 2nd half of the match."
   ]
  },
  {
   "cell_type": "code",
   "execution_count": 47,
   "id": "e8e82f8767459398",
   "metadata": {
    "collapsed": false,
    "ExecuteTime": {
     "end_time": "2024-07-22T20:54:14.593913400Z",
     "start_time": "2024-07-22T20:54:13.783241700Z"
    }
   },
   "outputs": [
    {
     "data": {
      "text/plain": "goal_time    1st half  2nd half  Overtime  total_goals  1st half %  \\\nteam                                                                 \nqatar             NaN       1.0       NaN          1.0         NaN   \nel salvador       NaN       1.0       NaN          1.0         NaN   \nhaiti             NaN       2.0       NaN          2.0         NaN   \nkuwait            NaN       2.0       NaN          2.0         NaN   \nbolivia           NaN       1.0       NaN          1.0         NaN   \nangola            NaN       1.0       NaN          1.0         NaN   \niraq              NaN       1.0       NaN          1.0         NaN   \nisrael            NaN       1.0       NaN          1.0         NaN   \nnorway            1.0       6.0       NaN          7.0    0.142857   \ncosta rica        4.0      18.0       NaN         22.0    0.181818   \n\ngoal_time    2nd half %  Overtime %  \nteam                                 \nqatar          1.000000         NaN  \nel salvador    1.000000         NaN  \nhaiti          1.000000         NaN  \nkuwait         1.000000         NaN  \nbolivia        1.000000         NaN  \nangola         1.000000         NaN  \niraq           1.000000         NaN  \nisrael         1.000000         NaN  \nnorway         0.857143         NaN  \ncosta rica     0.818182         NaN  ",
      "text/html": "<div>\n<style scoped>\n    .dataframe tbody tr th:only-of-type {\n        vertical-align: middle;\n    }\n\n    .dataframe tbody tr th {\n        vertical-align: top;\n    }\n\n    .dataframe thead th {\n        text-align: right;\n    }\n</style>\n<table border=\"1\" class=\"dataframe\">\n  <thead>\n    <tr style=\"text-align: right;\">\n      <th>goal_time</th>\n      <th>1st half</th>\n      <th>2nd half</th>\n      <th>Overtime</th>\n      <th>total_goals</th>\n      <th>1st half %</th>\n      <th>2nd half %</th>\n      <th>Overtime %</th>\n    </tr>\n    <tr>\n      <th>team</th>\n      <th></th>\n      <th></th>\n      <th></th>\n      <th></th>\n      <th></th>\n      <th></th>\n      <th></th>\n    </tr>\n  </thead>\n  <tbody>\n    <tr>\n      <th>qatar</th>\n      <td>NaN</td>\n      <td>1.0</td>\n      <td>NaN</td>\n      <td>1.0</td>\n      <td>NaN</td>\n      <td>1.000000</td>\n      <td>NaN</td>\n    </tr>\n    <tr>\n      <th>el salvador</th>\n      <td>NaN</td>\n      <td>1.0</td>\n      <td>NaN</td>\n      <td>1.0</td>\n      <td>NaN</td>\n      <td>1.000000</td>\n      <td>NaN</td>\n    </tr>\n    <tr>\n      <th>haiti</th>\n      <td>NaN</td>\n      <td>2.0</td>\n      <td>NaN</td>\n      <td>2.0</td>\n      <td>NaN</td>\n      <td>1.000000</td>\n      <td>NaN</td>\n    </tr>\n    <tr>\n      <th>kuwait</th>\n      <td>NaN</td>\n      <td>2.0</td>\n      <td>NaN</td>\n      <td>2.0</td>\n      <td>NaN</td>\n      <td>1.000000</td>\n      <td>NaN</td>\n    </tr>\n    <tr>\n      <th>bolivia</th>\n      <td>NaN</td>\n      <td>1.0</td>\n      <td>NaN</td>\n      <td>1.0</td>\n      <td>NaN</td>\n      <td>1.000000</td>\n      <td>NaN</td>\n    </tr>\n    <tr>\n      <th>angola</th>\n      <td>NaN</td>\n      <td>1.0</td>\n      <td>NaN</td>\n      <td>1.0</td>\n      <td>NaN</td>\n      <td>1.000000</td>\n      <td>NaN</td>\n    </tr>\n    <tr>\n      <th>iraq</th>\n      <td>NaN</td>\n      <td>1.0</td>\n      <td>NaN</td>\n      <td>1.0</td>\n      <td>NaN</td>\n      <td>1.000000</td>\n      <td>NaN</td>\n    </tr>\n    <tr>\n      <th>israel</th>\n      <td>NaN</td>\n      <td>1.0</td>\n      <td>NaN</td>\n      <td>1.0</td>\n      <td>NaN</td>\n      <td>1.000000</td>\n      <td>NaN</td>\n    </tr>\n    <tr>\n      <th>norway</th>\n      <td>1.0</td>\n      <td>6.0</td>\n      <td>NaN</td>\n      <td>7.0</td>\n      <td>0.142857</td>\n      <td>0.857143</td>\n      <td>NaN</td>\n    </tr>\n    <tr>\n      <th>costa rica</th>\n      <td>4.0</td>\n      <td>18.0</td>\n      <td>NaN</td>\n      <td>22.0</td>\n      <td>0.181818</td>\n      <td>0.818182</td>\n      <td>NaN</td>\n    </tr>\n  </tbody>\n</table>\n</div>"
     },
     "execution_count": 47,
     "metadata": {},
     "output_type": "execute_result"
    }
   ],
   "source": [
    "# Calculate the number of goals scored in the 2nd half of the match by team\n",
    "second_half_goals = team_goal_time.sort_values('2nd half %', ascending=False)\n",
    "\n",
    "# Show the top 10 teams that scored the most goals in the 2nd half of the match\n",
    "second_half_goals.head(10)"
   ]
  },
  {
   "cell_type": "markdown",
   "id": "dcf60778dd627982",
   "metadata": {
    "collapsed": false
   },
   "source": [
    "Filter the teams who have scored total goals greater that the 25th percentile."
   ]
  },
  {
   "cell_type": "code",
   "execution_count": 48,
   "id": "b002eac364689c3e",
   "metadata": {
    "collapsed": false,
    "ExecuteTime": {
     "end_time": "2024-07-22T20:54:14.682268900Z",
     "start_time": "2024-07-22T20:54:13.790273300Z"
    }
   },
   "outputs": [
    {
     "data": {
      "text/plain": "goal_time  1st half  2nd half  Overtime  total_goals  1st half %  2nd half %  \\\nteam                                                                           \nalgeria         7.0       5.0       1.0         13.0    0.538462    0.384615   \nargentina      69.0      78.0       5.0        152.0    0.453947    0.513158   \naustralia       7.0      10.0       NaN         17.0    0.411765    0.588235   \naustria        18.0      23.0       2.0         43.0    0.418605    0.534884   \nbelgium        28.0      36.0       5.0         69.0    0.405797    0.521739   \n\ngoal_time  Overtime %  \nteam                   \nalgeria      0.076923  \nargentina    0.032895  \naustralia         NaN  \naustria      0.046512  \nbelgium      0.072464  ",
      "text/html": "<div>\n<style scoped>\n    .dataframe tbody tr th:only-of-type {\n        vertical-align: middle;\n    }\n\n    .dataframe tbody tr th {\n        vertical-align: top;\n    }\n\n    .dataframe thead th {\n        text-align: right;\n    }\n</style>\n<table border=\"1\" class=\"dataframe\">\n  <thead>\n    <tr style=\"text-align: right;\">\n      <th>goal_time</th>\n      <th>1st half</th>\n      <th>2nd half</th>\n      <th>Overtime</th>\n      <th>total_goals</th>\n      <th>1st half %</th>\n      <th>2nd half %</th>\n      <th>Overtime %</th>\n    </tr>\n    <tr>\n      <th>team</th>\n      <th></th>\n      <th></th>\n      <th></th>\n      <th></th>\n      <th></th>\n      <th></th>\n      <th></th>\n    </tr>\n  </thead>\n  <tbody>\n    <tr>\n      <th>algeria</th>\n      <td>7.0</td>\n      <td>5.0</td>\n      <td>1.0</td>\n      <td>13.0</td>\n      <td>0.538462</td>\n      <td>0.384615</td>\n      <td>0.076923</td>\n    </tr>\n    <tr>\n      <th>argentina</th>\n      <td>69.0</td>\n      <td>78.0</td>\n      <td>5.0</td>\n      <td>152.0</td>\n      <td>0.453947</td>\n      <td>0.513158</td>\n      <td>0.032895</td>\n    </tr>\n    <tr>\n      <th>australia</th>\n      <td>7.0</td>\n      <td>10.0</td>\n      <td>NaN</td>\n      <td>17.0</td>\n      <td>0.411765</td>\n      <td>0.588235</td>\n      <td>NaN</td>\n    </tr>\n    <tr>\n      <th>austria</th>\n      <td>18.0</td>\n      <td>23.0</td>\n      <td>2.0</td>\n      <td>43.0</td>\n      <td>0.418605</td>\n      <td>0.534884</td>\n      <td>0.046512</td>\n    </tr>\n    <tr>\n      <th>belgium</th>\n      <td>28.0</td>\n      <td>36.0</td>\n      <td>5.0</td>\n      <td>69.0</td>\n      <td>0.405797</td>\n      <td>0.521739</td>\n      <td>0.072464</td>\n    </tr>\n  </tbody>\n</table>\n</div>"
     },
     "execution_count": 48,
     "metadata": {},
     "output_type": "execute_result"
    }
   ],
   "source": [
    "# Filter the teams who have scored total goals greater that the 25th percentile\n",
    "team_goal_time = team_goal_time[team_goal_time['total_goals'] > team_goal_time['total_goals'].quantile(0.25)]\n",
    "\n",
    "# Show the first five (5) rows of the team goal time\n",
    "team_goal_time.head()"
   ]
  },
  {
   "cell_type": "markdown",
   "id": "c47c2ac139e69976",
   "metadata": {
    "collapsed": false
   },
   "source": [
    "It looks like, we have more data to better evaluate each team's performance in the 1st and 2nd half of the match. \n",
    "\n",
    "We now compare their performance. Calculate each team's overall win percentage so that we can compare it to their 1st and 2nd half performance.\n",
    "\n",
    "We need to combine each team's record as both the home and away team to get their overall win percentage."
   ]
  },
  {
   "cell_type": "code",
   "execution_count": 49,
   "id": "d753869d9f554d95",
   "metadata": {
    "collapsed": false,
    "ExecuteTime": {
     "end_time": "2024-07-22T20:54:14.967211300Z",
     "start_time": "2024-07-22T20:54:13.805271Z"
    }
   },
   "outputs": [
    {
     "data": {
      "text/plain": "        team  home_losses  home_wins\n0    algeria         10.0        5.0\n1     angola          1.0        NaN\n2  argentina         54.0      141.0\n3  australia         11.0        8.0\n4    austria         35.0       30.0",
      "text/html": "<div>\n<style scoped>\n    .dataframe tbody tr th:only-of-type {\n        vertical-align: middle;\n    }\n\n    .dataframe tbody tr th {\n        vertical-align: top;\n    }\n\n    .dataframe thead th {\n        text-align: right;\n    }\n</style>\n<table border=\"1\" class=\"dataframe\">\n  <thead>\n    <tr style=\"text-align: right;\">\n      <th></th>\n      <th>team</th>\n      <th>home_losses</th>\n      <th>home_wins</th>\n    </tr>\n  </thead>\n  <tbody>\n    <tr>\n      <th>0</th>\n      <td>algeria</td>\n      <td>10.0</td>\n      <td>5.0</td>\n    </tr>\n    <tr>\n      <th>1</th>\n      <td>angola</td>\n      <td>1.0</td>\n      <td>NaN</td>\n    </tr>\n    <tr>\n      <th>2</th>\n      <td>argentina</td>\n      <td>54.0</td>\n      <td>141.0</td>\n    </tr>\n    <tr>\n      <th>3</th>\n      <td>australia</td>\n      <td>11.0</td>\n      <td>8.0</td>\n    </tr>\n    <tr>\n      <th>4</th>\n      <td>austria</td>\n      <td>35.0</td>\n      <td>30.0</td>\n    </tr>\n  </tbody>\n</table>\n</div>"
     },
     "execution_count": 49,
     "metadata": {},
     "output_type": "execute_result"
    }
   ],
   "source": [
    "# Calculate home team wins and losses\n",
    "home_record = pd.pivot_table(fifa_wc_goalscorers,\n",
    "                             index='home_team',\n",
    "                             columns='home_win',\n",
    "                             values='date',\n",
    "                             aggfunc='count').reset_index()\n",
    "\n",
    "home_record.columns = ['team', 'home_losses', 'home_wins']\n",
    "\n",
    "# Show the first five (5) rows of the home record\n",
    "home_record.head()"
   ]
  },
  {
   "cell_type": "code",
   "execution_count": 50,
   "id": "830098855669586a",
   "metadata": {
    "collapsed": false,
    "ExecuteTime": {
     "end_time": "2024-07-22T20:54:14.968239100Z",
     "start_time": "2024-07-22T20:54:13.831194500Z"
    }
   },
   "outputs": [
    {
     "data": {
      "text/plain": "        team  away_losses  away_wins\n0    algeria          9.0        9.0\n1     angola          3.0        NaN\n2  argentina         43.0       21.0\n3  australia         35.0        1.0\n4    austria         10.0       15.0",
      "text/html": "<div>\n<style scoped>\n    .dataframe tbody tr th:only-of-type {\n        vertical-align: middle;\n    }\n\n    .dataframe tbody tr th {\n        vertical-align: top;\n    }\n\n    .dataframe thead th {\n        text-align: right;\n    }\n</style>\n<table border=\"1\" class=\"dataframe\">\n  <thead>\n    <tr style=\"text-align: right;\">\n      <th></th>\n      <th>team</th>\n      <th>away_losses</th>\n      <th>away_wins</th>\n    </tr>\n  </thead>\n  <tbody>\n    <tr>\n      <th>0</th>\n      <td>algeria</td>\n      <td>9.0</td>\n      <td>9.0</td>\n    </tr>\n    <tr>\n      <th>1</th>\n      <td>angola</td>\n      <td>3.0</td>\n      <td>NaN</td>\n    </tr>\n    <tr>\n      <th>2</th>\n      <td>argentina</td>\n      <td>43.0</td>\n      <td>21.0</td>\n    </tr>\n    <tr>\n      <th>3</th>\n      <td>australia</td>\n      <td>35.0</td>\n      <td>1.0</td>\n    </tr>\n    <tr>\n      <th>4</th>\n      <td>austria</td>\n      <td>10.0</td>\n      <td>15.0</td>\n    </tr>\n  </tbody>\n</table>\n</div>"
     },
     "execution_count": 50,
     "metadata": {},
     "output_type": "execute_result"
    }
   ],
   "source": [
    "# Calculate away team wins and losses\n",
    "away_record = pd.pivot_table(fifa_wc_goalscorers,\n",
    "                             index='away_team',\n",
    "                             columns='away_win',\n",
    "                             values='date',\n",
    "                             aggfunc='count').reset_index()\n",
    "\n",
    "away_record.columns = ['team', 'away_losses', 'away_wins']\n",
    "\n",
    "# Show the first five (5) rows of the away record\n",
    "away_record.head()"
   ]
  },
  {
   "cell_type": "markdown",
   "id": "41678d304b8bd1fb",
   "metadata": {
    "collapsed": false
   },
   "source": [
    "We have missing, `NaN`, values corresponding to 0 wins.\n",
    "\n",
    "Now, let's merge the home and away records to calculate the overall win percentage for each team."
   ]
  },
  {
   "cell_type": "code",
   "execution_count": 51,
   "id": "459e84473af8bba5",
   "metadata": {
    "collapsed": false,
    "ExecuteTime": {
     "end_time": "2024-07-22T20:54:15.023607200Z",
     "start_time": "2024-07-22T20:54:13.849177600Z"
    }
   },
   "outputs": [
    {
     "data": {
      "text/plain": "                     team  total_wins  total_losses     win %\n0                 algeria        14.0          19.0  0.424242\n1                  angola         0.0           4.0  0.000000\n2               argentina       162.0          97.0  0.625483\n3               australia         9.0          46.0  0.163636\n4                 austria        45.0          45.0  0.500000\n5                 belgium        60.0          85.0  0.413793\n6                 bolivia         0.0          22.0  0.000000\n7  bosnia and herzegovina         4.0           4.0  0.500000\n8                  brazil       267.0          87.0  0.754237\n9                bulgaria        11.0          67.0  0.141026",
      "text/html": "<div>\n<style scoped>\n    .dataframe tbody tr th:only-of-type {\n        vertical-align: middle;\n    }\n\n    .dataframe tbody tr th {\n        vertical-align: top;\n    }\n\n    .dataframe thead th {\n        text-align: right;\n    }\n</style>\n<table border=\"1\" class=\"dataframe\">\n  <thead>\n    <tr style=\"text-align: right;\">\n      <th></th>\n      <th>team</th>\n      <th>total_wins</th>\n      <th>total_losses</th>\n      <th>win %</th>\n    </tr>\n  </thead>\n  <tbody>\n    <tr>\n      <th>0</th>\n      <td>algeria</td>\n      <td>14.0</td>\n      <td>19.0</td>\n      <td>0.424242</td>\n    </tr>\n    <tr>\n      <th>1</th>\n      <td>angola</td>\n      <td>0.0</td>\n      <td>4.0</td>\n      <td>0.000000</td>\n    </tr>\n    <tr>\n      <th>2</th>\n      <td>argentina</td>\n      <td>162.0</td>\n      <td>97.0</td>\n      <td>0.625483</td>\n    </tr>\n    <tr>\n      <th>3</th>\n      <td>australia</td>\n      <td>9.0</td>\n      <td>46.0</td>\n      <td>0.163636</td>\n    </tr>\n    <tr>\n      <th>4</th>\n      <td>austria</td>\n      <td>45.0</td>\n      <td>45.0</td>\n      <td>0.500000</td>\n    </tr>\n    <tr>\n      <th>5</th>\n      <td>belgium</td>\n      <td>60.0</td>\n      <td>85.0</td>\n      <td>0.413793</td>\n    </tr>\n    <tr>\n      <th>6</th>\n      <td>bolivia</td>\n      <td>0.0</td>\n      <td>22.0</td>\n      <td>0.000000</td>\n    </tr>\n    <tr>\n      <th>7</th>\n      <td>bosnia and herzegovina</td>\n      <td>4.0</td>\n      <td>4.0</td>\n      <td>0.500000</td>\n    </tr>\n    <tr>\n      <th>8</th>\n      <td>brazil</td>\n      <td>267.0</td>\n      <td>87.0</td>\n      <td>0.754237</td>\n    </tr>\n    <tr>\n      <th>9</th>\n      <td>bulgaria</td>\n      <td>11.0</td>\n      <td>67.0</td>\n      <td>0.141026</td>\n    </tr>\n  </tbody>\n</table>\n</div>"
     },
     "execution_count": 51,
     "metadata": {},
     "output_type": "execute_result"
    }
   ],
   "source": [
    "# Merge the home and away records\n",
    "overall_record = pd.merge(home_record, away_record, left_on='team', right_on='team', how='inner')\n",
    "overall_record['total_wins'] = overall_record[['home_wins', 'away_wins']].sum(axis=1)\n",
    "overall_record['total_losses'] = overall_record[['home_losses', 'away_losses']].sum(axis=1)\n",
    "overall_record['win %'] = overall_record['total_wins'] / (overall_record['total_wins'] + overall_record['total_losses'])\n",
    "\n",
    "# Show the first ten (10) rows of the overall record\n",
    "overall_record[['team', 'total_wins', 'total_losses', 'win %']].head(10)"
   ]
  },
  {
   "cell_type": "markdown",
   "id": "3ff750970df9c63e",
   "metadata": {
    "collapsed": false
   },
   "source": [
    "Now, let's merge the overall record with the team goal time dataset to compare each team's performance in the 1st and 2nd half of the match."
   ]
  },
  {
   "cell_type": "code",
   "execution_count": 52,
   "id": "3e2528758d66202f",
   "metadata": {
    "collapsed": false,
    "ExecuteTime": {
     "end_time": "2024-07-22T20:54:15.024619900Z",
     "start_time": "2024-07-22T20:54:13.863731500Z"
    }
   },
   "outputs": [
    {
     "data": {
      "text/plain": "        team  total_wins  total_losses     win %  1st half %  2nd half %  \\\n0    algeria        14.0          19.0  0.424242    0.538462    0.384615   \n1  argentina       162.0          97.0  0.625483    0.453947    0.513158   \n2  australia         9.0          46.0  0.163636    0.411765    0.588235   \n3    austria        45.0          45.0  0.500000    0.418605    0.534884   \n4    belgium        60.0          85.0  0.413793    0.405797    0.521739   \n\n   Overtime %  \n0    0.076923  \n1    0.032895  \n2         NaN  \n3    0.046512  \n4    0.072464  ",
      "text/html": "<div>\n<style scoped>\n    .dataframe tbody tr th:only-of-type {\n        vertical-align: middle;\n    }\n\n    .dataframe tbody tr th {\n        vertical-align: top;\n    }\n\n    .dataframe thead th {\n        text-align: right;\n    }\n</style>\n<table border=\"1\" class=\"dataframe\">\n  <thead>\n    <tr style=\"text-align: right;\">\n      <th></th>\n      <th>team</th>\n      <th>total_wins</th>\n      <th>total_losses</th>\n      <th>win %</th>\n      <th>1st half %</th>\n      <th>2nd half %</th>\n      <th>Overtime %</th>\n    </tr>\n  </thead>\n  <tbody>\n    <tr>\n      <th>0</th>\n      <td>algeria</td>\n      <td>14.0</td>\n      <td>19.0</td>\n      <td>0.424242</td>\n      <td>0.538462</td>\n      <td>0.384615</td>\n      <td>0.076923</td>\n    </tr>\n    <tr>\n      <th>1</th>\n      <td>argentina</td>\n      <td>162.0</td>\n      <td>97.0</td>\n      <td>0.625483</td>\n      <td>0.453947</td>\n      <td>0.513158</td>\n      <td>0.032895</td>\n    </tr>\n    <tr>\n      <th>2</th>\n      <td>australia</td>\n      <td>9.0</td>\n      <td>46.0</td>\n      <td>0.163636</td>\n      <td>0.411765</td>\n      <td>0.588235</td>\n      <td>NaN</td>\n    </tr>\n    <tr>\n      <th>3</th>\n      <td>austria</td>\n      <td>45.0</td>\n      <td>45.0</td>\n      <td>0.500000</td>\n      <td>0.418605</td>\n      <td>0.534884</td>\n      <td>0.046512</td>\n    </tr>\n    <tr>\n      <th>4</th>\n      <td>belgium</td>\n      <td>60.0</td>\n      <td>85.0</td>\n      <td>0.413793</td>\n      <td>0.405797</td>\n      <td>0.521739</td>\n      <td>0.072464</td>\n    </tr>\n  </tbody>\n</table>\n</div>"
     },
     "execution_count": 52,
     "metadata": {},
     "output_type": "execute_result"
    }
   ],
   "source": [
    "# Merge the overall record with the team goal time dataset\n",
    "goals_record = pd.merge(overall_record, team_goal_time, left_on='team', right_on='team', how='inner')\n",
    "goals_record = goals_record[['team', 'total_wins', 'total_losses', 'win %', '1st half %', '2nd half %', 'Overtime %']]\n",
    "\n",
    "# Show the first five (5) rows of the goals record\n",
    "goals_record.head()"
   ]
  },
  {
   "cell_type": "markdown",
   "id": "fa33810d2e9f7a",
   "metadata": {
    "collapsed": false
   },
   "source": [
    "Let's see which teams scored most of their goals in the 1st half of the match."
   ]
  },
  {
   "cell_type": "code",
   "execution_count": 53,
   "id": "805ef29f4234632c",
   "metadata": {
    "collapsed": false,
    "ExecuteTime": {
     "end_time": "2024-07-22T20:54:15.024619900Z",
     "start_time": "2024-07-22T20:54:13.880325Z"
    }
   },
   "outputs": [
    {
     "data": {
      "text/plain": "                team  total_wins  total_losses     win %  1st half %  \\\n28       north korea         1.0          26.0  0.037037    0.666667   \n48            turkey        17.0          20.0  0.459459    0.650000   \n41            serbia         4.0          41.0  0.088889    0.625000   \n27           nigeria        14.0          41.0  0.254545    0.565217   \n40           senegal        14.0          19.0  0.424242    0.562500   \n39          scotland        17.0          51.0  0.250000    0.560000   \n25           morocco        14.0          37.0  0.274510    0.550000   \n29  northern ireland         5.0          32.0  0.135135    0.538462   \n0            algeria        14.0          19.0  0.424242    0.538462   \n14           ecuador        11.0          18.0  0.379310    0.500000   \n\n    2nd half %  Overtime %  \n28    0.333333         NaN  \n48    0.300000    0.050000  \n41    0.375000         NaN  \n27    0.434783         NaN  \n40    0.375000    0.062500  \n39    0.440000         NaN  \n25    0.450000         NaN  \n29    0.384615    0.076923  \n0     0.384615    0.076923  \n14    0.500000         NaN  ",
      "text/html": "<div>\n<style scoped>\n    .dataframe tbody tr th:only-of-type {\n        vertical-align: middle;\n    }\n\n    .dataframe tbody tr th {\n        vertical-align: top;\n    }\n\n    .dataframe thead th {\n        text-align: right;\n    }\n</style>\n<table border=\"1\" class=\"dataframe\">\n  <thead>\n    <tr style=\"text-align: right;\">\n      <th></th>\n      <th>team</th>\n      <th>total_wins</th>\n      <th>total_losses</th>\n      <th>win %</th>\n      <th>1st half %</th>\n      <th>2nd half %</th>\n      <th>Overtime %</th>\n    </tr>\n  </thead>\n  <tbody>\n    <tr>\n      <th>28</th>\n      <td>north korea</td>\n      <td>1.0</td>\n      <td>26.0</td>\n      <td>0.037037</td>\n      <td>0.666667</td>\n      <td>0.333333</td>\n      <td>NaN</td>\n    </tr>\n    <tr>\n      <th>48</th>\n      <td>turkey</td>\n      <td>17.0</td>\n      <td>20.0</td>\n      <td>0.459459</td>\n      <td>0.650000</td>\n      <td>0.300000</td>\n      <td>0.050000</td>\n    </tr>\n    <tr>\n      <th>41</th>\n      <td>serbia</td>\n      <td>4.0</td>\n      <td>41.0</td>\n      <td>0.088889</td>\n      <td>0.625000</td>\n      <td>0.375000</td>\n      <td>NaN</td>\n    </tr>\n    <tr>\n      <th>27</th>\n      <td>nigeria</td>\n      <td>14.0</td>\n      <td>41.0</td>\n      <td>0.254545</td>\n      <td>0.565217</td>\n      <td>0.434783</td>\n      <td>NaN</td>\n    </tr>\n    <tr>\n      <th>40</th>\n      <td>senegal</td>\n      <td>14.0</td>\n      <td>19.0</td>\n      <td>0.424242</td>\n      <td>0.562500</td>\n      <td>0.375000</td>\n      <td>0.062500</td>\n    </tr>\n    <tr>\n      <th>39</th>\n      <td>scotland</td>\n      <td>17.0</td>\n      <td>51.0</td>\n      <td>0.250000</td>\n      <td>0.560000</td>\n      <td>0.440000</td>\n      <td>NaN</td>\n    </tr>\n    <tr>\n      <th>25</th>\n      <td>morocco</td>\n      <td>14.0</td>\n      <td>37.0</td>\n      <td>0.274510</td>\n      <td>0.550000</td>\n      <td>0.450000</td>\n      <td>NaN</td>\n    </tr>\n    <tr>\n      <th>29</th>\n      <td>northern ireland</td>\n      <td>5.0</td>\n      <td>32.0</td>\n      <td>0.135135</td>\n      <td>0.538462</td>\n      <td>0.384615</td>\n      <td>0.076923</td>\n    </tr>\n    <tr>\n      <th>0</th>\n      <td>algeria</td>\n      <td>14.0</td>\n      <td>19.0</td>\n      <td>0.424242</td>\n      <td>0.538462</td>\n      <td>0.384615</td>\n      <td>0.076923</td>\n    </tr>\n    <tr>\n      <th>14</th>\n      <td>ecuador</td>\n      <td>11.0</td>\n      <td>18.0</td>\n      <td>0.379310</td>\n      <td>0.500000</td>\n      <td>0.500000</td>\n      <td>NaN</td>\n    </tr>\n  </tbody>\n</table>\n</div>"
     },
     "execution_count": 53,
     "metadata": {},
     "output_type": "execute_result"
    }
   ],
   "source": [
    "# Calculate the number of goals scored in the 1st half of the match by team\n",
    "first_half_goals = goals_record.sort_values('1st half %', ascending=False)\n",
    "\n",
    "# Show the top 10 teams that scored the most goals in the 1st half of the match\n",
    "first_half_goals.head(10)"
   ]
  },
  {
   "cell_type": "markdown",
   "id": "caeded5bc51325fd",
   "metadata": {
    "collapsed": false
   },
   "source": [
    "Get the average or mean value of goals at each half of the match."
   ]
  },
  {
   "cell_type": "code",
   "execution_count": 54,
   "id": "cba003d434d6d1ab",
   "metadata": {
    "collapsed": false,
    "ExecuteTime": {
     "end_time": "2024-07-22T20:54:15.025608900Z",
     "start_time": "2024-07-22T20:54:13.895534100Z"
    }
   },
   "outputs": [
    {
     "name": "stdout",
     "output_type": "stream",
     "text": [
      "Average goals scored in the 1st half: 0.5756307134894091\n",
      "Average goals scored in the 2nd half: 0.39773467112597544\n"
     ]
    }
   ],
   "source": [
    "print('Average goals scored in the 1st half:', first_half_goals['1st half %'].head(10).mean())\n",
    "print('Average goals scored in the 2nd half:', first_half_goals['2nd half %'].head(10).mean())"
   ]
  },
  {
   "cell_type": "markdown",
   "id": "1edcc69a0a3d80e3",
   "metadata": {
    "collapsed": false
   },
   "source": [
    "Get the average win percentage of the teams."
   ]
  },
  {
   "cell_type": "code",
   "execution_count": 55,
   "id": "a403791552e88db0",
   "metadata": {
    "collapsed": false,
    "ExecuteTime": {
     "end_time": "2024-07-22T20:54:15.026607400Z",
     "start_time": "2024-07-22T20:54:13.901598300Z"
    }
   },
   "outputs": [
    {
     "name": "stdout",
     "output_type": "stream",
     "text": [
      "Average win percentage of the teams: 0.25283465283465284\n"
     ]
    }
   ],
   "source": [
    "print('Average win percentage of the teams:', first_half_goals['win %'].head().mean())"
   ]
  }
 ],
 "metadata": {
  "kernelspec": {
   "display_name": "Python 3 (ipykernel)",
   "language": "python",
   "name": "python3"
  },
  "language_info": {
   "codemirror_mode": {
    "name": "ipython",
    "version": 3
   },
   "file_extension": ".py",
   "mimetype": "text/x-python",
   "name": "python",
   "nbconvert_exporter": "python",
   "pygments_lexer": "ipython3",
   "version": "3.12.0"
  }
 },
 "nbformat": 4,
 "nbformat_minor": 5
}
